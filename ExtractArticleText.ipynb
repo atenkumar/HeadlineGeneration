{
 "cells": [
  {
   "cell_type": "markdown",
   "metadata": {},
   "source": [
    "# Extract ESPN Article Text from URL\n",
    "\n",
    "Requirements:\n",
    "\n",
    "* beautifulsoup4  (4.6.0)"
   ]
  },
  {
   "cell_type": "code",
   "execution_count": 4,
   "metadata": {},
   "outputs": [],
   "source": [
    "from bs4 import BeautifulSoup\n",
    "import requests\n",
    "import pandas as pd\n",
    "from utils import load_espn, save_espn\n",
    "df = pd.read_csv(\"ESPN_football_2.csv\")\n",
    "path = r'C:/Users/atenk/Documents/ISM/HeadlineGeneration/ESPN_football_2.csv'"
   ]
  },
  {
   "cell_type": "code",
   "execution_count": 5,
   "metadata": {},
   "outputs": [],
   "source": [
    "def export_summary_from_url (link):\n",
    "    html_page =  requests.get(link)\n",
    "    soup = BeautifulSoup(html_page.content, 'lxml')\n",
    "    # assuming p tags are all within article tag, seems to work\n",
    "    paragraph_html_list = soup.find_all(\"p\")\n",
    "    textContent = [p.text for p in paragraph_html_list]\n",
    "    \n",
    "    return textContent[0]\n",
    "\n",
    "def export_headline_from_url (link):\n",
    "    html_page =  requests.get(link)\n",
    "    soup = BeautifulSoup(html_page.content, 'lxml')\n",
    "    # assuming p tags are all within article tag, seems to work\n",
    "    headline_html_list = soup.article.find_all(\"h1\")\n",
    "    # within the article tag is the correct header\n",
    "    headlines = [h1.text for h1 in headline_html_list]\n",
    "            \n",
    "    return headlines[0]\n",
    "\n",
    "def export_alltext (link):\n",
    "    html_page =  requests.get(link)\n",
    "    soup = BeautifulSoup(html_page.content, 'lxml')\n",
    "    # assuming p tags are all within article tag, seems to work\n",
    "    paragraph_html_list = soup.find_all(\"p\")\n",
    "    textContent = [p.text for p in paragraph_html_list]\n",
    "    allText = \" \".join(textContent)\n",
    "    allText = allText.replace(\"|\", \"\")\n",
    "    return allText"
   ]
  },
  {
   "cell_type": "code",
   "execution_count": 24,
   "metadata": {},
   "outputs": [],
   "source": [
    "def summary(df):\n",
    "    df['summary']= export_summary_from_url(df['url'])\n",
    "    return df\n",
    "df = df.apply(summary, axis=1)"
   ]
  },
  {
   "cell_type": "code",
   "execution_count": 26,
   "metadata": {},
   "outputs": [],
   "source": [
    "def headline(df):\n",
    "    df['headline'] = export_headline_from_url(df['url'])\n",
    "    return df\n",
    "df = df.apply(headline, axis=1)"
   ]
  },
  {
   "cell_type": "code",
   "execution_count": 6,
   "metadata": {},
   "outputs": [],
   "source": [
    "def rawtext(df):\n",
    "    df['rawText'] = export_alltext(df['url'])\n",
    "    return df\n",
    "df = df.apply(rawtext, axis=1)"
   ]
  },
  {
   "cell_type": "code",
   "execution_count": 10,
   "metadata": {},
   "outputs": [],
   "source": [
    "df.to_csv(path, index = False)"
   ]
  }
 ],
 "metadata": {
  "kernelspec": {
   "display_name": "Python 3",
   "language": "python",
   "name": "python3"
  },
  "language_info": {
   "codemirror_mode": {
    "name": "ipython",
    "version": 3
   },
   "file_extension": ".py",
   "mimetype": "text/x-python",
   "name": "python",
   "nbconvert_exporter": "python",
   "pygments_lexer": "ipython3",
   "version": "3.6.4"
  }
 },
 "nbformat": 4,
 "nbformat_minor": 2
}
