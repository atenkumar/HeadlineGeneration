{
 "cells": [
  {
   "cell_type": "markdown",
   "metadata": {},
   "source": [
    "## Algorithm\n",
    "\n",
    "* Convert all sentences to vector quantity\n",
    "* Compare all sentences between each other"
   ]
  },
  {
   "cell_type": "code",
   "execution_count": 1,
   "metadata": {
    "collapsed": true
   },
   "outputs": [],
   "source": [
    "import pandas as pd\n",
    "import en_core_web_sm\n",
    "import numpy as np\n",
    "from utils import load_espn, save_espn\n",
    "path = r'data/ESPN_football.csv'\n",
    "df = load_espn(pat"
   ]
  },
  {
   "cell_type": "code",
   "execution_count": 2,
   "metadata": {
    "collapsed": false
   },
   "outputs": [
    {
     "data": {
      "text/html": [
       "<div>\n",
       "<style scoped>\n",
       "    .dataframe tbody tr th:only-of-type {\n",
       "        vertical-align: middle;\n",
       "    }\n",
       "\n",
       "    .dataframe tbody tr th {\n",
       "        vertical-align: top;\n",
       "    }\n",
       "\n",
       "    .dataframe thead th {\n",
       "        text-align: right;\n",
       "    }\n",
       "</style>\n",
       "<table border=\"1\" class=\"dataframe\">\n",
       "  <thead>\n",
       "    <tr style=\"text-align: right;\">\n",
       "      <th></th>\n",
       "      <th>author</th>\n",
       "      <th>class</th>\n",
       "      <th>data-id</th>\n",
       "      <th>sport</th>\n",
       "      <th>teamname</th>\n",
       "      <th>timestamp</th>\n",
       "      <th>url</th>\n",
       "      <th>summary</th>\n",
       "      <th>headline</th>\n",
       "      <th>rawText</th>\n",
       "      <th>text</th>\n",
       "      <th>cleanText</th>\n",
       "    </tr>\n",
       "  </thead>\n",
       "  <tbody>\n",
       "    <tr>\n",
       "      <th>0</th>\n",
       "      <td>Mike Rodak</td>\n",
       "      <td>story-link</td>\n",
       "      <td>buffalo-bills-33083</td>\n",
       "      <td>nfl</td>\n",
       "      <td>buffalo-bills</td>\n",
       "      <td>3d</td>\n",
       "      <td>http://espn.com/blog/buffalo-bills/post/_/id/3...</td>\n",
       "      <td>Andre Reed, who ranks seventh in NFL history w...</td>\n",
       "      <td>Andre Reed has acting bug after cameos in 'Mac...</td>\n",
       "      <td>Andre Reed, who ranks seventh in NFL history w...</td>\n",
       "      <td>[Andre Reed, who ranks seventh in NFL history ...</td>\n",
       "      <td>[andre reed rank seventh nfl history 85 postse...</td>\n",
       "    </tr>\n",
       "    <tr>\n",
       "      <th>1</th>\n",
       "      <td>Todd McShay</td>\n",
       "      <td>story-link</td>\n",
       "      <td>26489910</td>\n",
       "      <td>nfl</td>\n",
       "      <td>buffalo-bills</td>\n",
       "      <td>4d</td>\n",
       "      <td>http://insider.espn.com/nfl/draft2019/insider/...</td>\n",
       "      <td>Todd McShay hears that the Giants might not be...</td>\n",
       "      <td>Todd McShay's top five 2019 NFL draft needs fo...</td>\n",
       "      <td>Todd McShay hears that the Giants might not be...</td>\n",
       "      <td>[Todd McShay hears that the Giants might not b...</td>\n",
       "      <td>[todd mcshay hear giants love dwayne haskins p...</td>\n",
       "    </tr>\n",
       "    <tr>\n",
       "      <th>2</th>\n",
       "      <td>ESPN.com</td>\n",
       "      <td>story-link</td>\n",
       "      <td>26473482</td>\n",
       "      <td>nfl</td>\n",
       "      <td>buffalo-bills</td>\n",
       "      <td>6d</td>\n",
       "      <td>http://www.espn.com/nfl/draft2019/story/_/id/2...</td>\n",
       "      <td>The NFL draft annually brings back memories, a...</td>\n",
       "      <td>NFL draft do-overs: Let's re-pick ... and fix ...</td>\n",
       "      <td>The NFL draft annually brings back memories, a...</td>\n",
       "      <td>[The NFL draft annually brings back memories, ...</td>\n",
       "      <td>[nfl draft annually bring memory memory exactl...</td>\n",
       "    </tr>\n",
       "    <tr>\n",
       "      <th>3</th>\n",
       "      <td>T.J. Berka</td>\n",
       "      <td>story-link</td>\n",
       "      <td>24367000</td>\n",
       "      <td>nfl</td>\n",
       "      <td>buffalo-bills</td>\n",
       "      <td>7d</td>\n",
       "      <td>http://www.espn.com/nhl/story/_/id/24367000/th...</td>\n",
       "      <td>Since we updated the sports misery index in De...</td>\n",
       "      <td>Sports misery index: Most miserable fan bases ...</td>\n",
       "      <td>Since we updated the sports misery index in De...</td>\n",
       "      <td>[Since we updated the sports misery index in D...</td>\n",
       "      <td>[since update sport misery index december foot...</td>\n",
       "    </tr>\n",
       "    <tr>\n",
       "      <th>4</th>\n",
       "      <td>Mike Rodak</td>\n",
       "      <td>story-link</td>\n",
       "      <td>26426098</td>\n",
       "      <td>nfl</td>\n",
       "      <td>buffalo-bills</td>\n",
       "      <td>13d</td>\n",
       "      <td>http://www.espn.com/nfl/story/_/id/26426098/in...</td>\n",
       "      <td>Former NFL offensive lineman Richie Incognito ...</td>\n",
       "      <td>Incognito pleads guilty to disorderly conduct</td>\n",
       "      <td>Former NFL offensive lineman Richie Incognito ...</td>\n",
       "      <td>[Former NFL offensive lineman Richie Incognito...</td>\n",
       "      <td>[former nfl offensive lineman richie incognito...</td>\n",
       "    </tr>\n",
       "  </tbody>\n",
       "</table>\n",
       "</div>"
      ],
      "text/plain": [
       "        author       class              data-id sport       teamname  \\\n",
       "0   Mike Rodak  story-link  buffalo-bills-33083   nfl  buffalo-bills   \n",
       "1  Todd McShay  story-link             26489910   nfl  buffalo-bills   \n",
       "2     ESPN.com  story-link             26473482   nfl  buffalo-bills   \n",
       "3   T.J. Berka  story-link             24367000   nfl  buffalo-bills   \n",
       "4   Mike Rodak  story-link             26426098   nfl  buffalo-bills   \n",
       "\n",
       "  timestamp                                                url  \\\n",
       "0        3d  http://espn.com/blog/buffalo-bills/post/_/id/3...   \n",
       "1        4d  http://insider.espn.com/nfl/draft2019/insider/...   \n",
       "2        6d  http://www.espn.com/nfl/draft2019/story/_/id/2...   \n",
       "3        7d  http://www.espn.com/nhl/story/_/id/24367000/th...   \n",
       "4       13d  http://www.espn.com/nfl/story/_/id/26426098/in...   \n",
       "\n",
       "                                             summary  \\\n",
       "0  Andre Reed, who ranks seventh in NFL history w...   \n",
       "1  Todd McShay hears that the Giants might not be...   \n",
       "2  The NFL draft annually brings back memories, a...   \n",
       "3  Since we updated the sports misery index in De...   \n",
       "4  Former NFL offensive lineman Richie Incognito ...   \n",
       "\n",
       "                                            headline  \\\n",
       "0  Andre Reed has acting bug after cameos in 'Mac...   \n",
       "1  Todd McShay's top five 2019 NFL draft needs fo...   \n",
       "2  NFL draft do-overs: Let's re-pick ... and fix ...   \n",
       "3  Sports misery index: Most miserable fan bases ...   \n",
       "4      Incognito pleads guilty to disorderly conduct   \n",
       "\n",
       "                                             rawText  \\\n",
       "0  Andre Reed, who ranks seventh in NFL history w...   \n",
       "1  Todd McShay hears that the Giants might not be...   \n",
       "2  The NFL draft annually brings back memories, a...   \n",
       "3  Since we updated the sports misery index in De...   \n",
       "4  Former NFL offensive lineman Richie Incognito ...   \n",
       "\n",
       "                                                text  \\\n",
       "0  [Andre Reed, who ranks seventh in NFL history ...   \n",
       "1  [Todd McShay hears that the Giants might not b...   \n",
       "2  [The NFL draft annually brings back memories, ...   \n",
       "3  [Since we updated the sports misery index in D...   \n",
       "4  [Former NFL offensive lineman Richie Incognito...   \n",
       "\n",
       "                                           cleanText  \n",
       "0  [andre reed rank seventh nfl history 85 postse...  \n",
       "1  [todd mcshay hear giants love dwayne haskins p...  \n",
       "2  [nfl draft annually bring memory memory exactl...  \n",
       "3  [since update sport misery index december foot...  \n",
       "4  [former nfl offensive lineman richie incognito...  "
      ]
     },
     "execution_count": 2,
     "metadata": {},
     "output_type": "execute_result"
    }
   ],
   "source": [
    "df.head()"
   ]
  },
  {
   "cell_type": "code",
   "execution_count": 3,
   "metadata": {
    "collapsed": true
   },
   "outputs": [],
   "source": [
    "from sklearn.feature_extraction.text import CountVectorizer, TfidfVectorizer\n",
    "from sklearn.neighbors import NearestNeighbors\n",
    "\n",
    "def get_centroid(X):\n",
    "    return (np.sum(X.A, axis=0)/X.shape[0])\n",
    "\n",
    "def _get_sentence_vectors(clean_text, norm):\n",
    "    \n",
    "    token_pattern = r'(?u)\\b[-\\w][-\\w]+\\b'  \n",
    "    if not norm:\n",
    "        vectorizer = CountVectorizer(lowercase=False,\n",
    "                                     preprocessor=None,\n",
    "                                     token_pattern = token_pattern\n",
    "                                    )\n",
    "    else:\n",
    "        vectorizer = TfidfVectorizer(lowercase=False,\n",
    "                                     use_idf = False,\n",
    "                                     norm = 'l1',\n",
    "                                     preprocessor=None,\n",
    "                                     token_pattern = token_pattern\n",
    "                                    )\n",
    "        \n",
    "    X = vectorizer.fit_transform(clean_text)\n",
    "    return X\n",
    "\n",
    "def _get_knn_result(X, similarity_metric):\n",
    "    centroid = get_centroid(X)\n",
    "    nn = NearestNeighbors(n_neighbors=1,\n",
    "                          metric = similarity_metric\n",
    "                         )\n",
    "    nn.fit(X)\n",
    "    distance, index =  nn.kneighbors([centroid])\n",
    "    return index[0][0]\n",
    "\n",
    "def unnormal_cos(clean_text):\n",
    "    X = _get_sentence_vectors(clean_text, norm=False)\n",
    "    return _get_knn_result(X, similarity_metric='cosine')\n",
    "\n",
    "def normal_cos(clean_text):\n",
    "    X = _get_sentence_vectors(clean_text, norm=True)\n",
    "    return _get_knn_result(X, similarity_metric='cosine')\n",
    "\n",
    "def normal_euclid(clean_text):\n",
    "    X = _get_sentence_vectors(clean_text, norm=True)\n",
    "    return _get_knn_result(X, similarity_metric='euclid')  \n",
    "    \n"
   ]
  },
  {
   "cell_type": "code",
   "execution_count": 4,
   "metadata": {
    "collapsed": false
   },
   "outputs": [
    {
     "data": {
      "text/plain": [
       "5"
      ]
     },
     "execution_count": 4,
     "metadata": {},
     "output_type": "execute_result"
    }
   ],
   "source": [
    "unnormal_cos(df.cleanText[0])"
   ]
  },
  {
   "cell_type": "code",
   "execution_count": 6,
   "metadata": {
    "collapsed": false
   },
   "outputs": [
    {
     "data": {
      "text/plain": [
       "14"
      ]
     },
     "execution_count": 6,
     "metadata": {},
     "output_type": "execute_result"
    }
   ],
   "source": [
    "normal_cos(df.cleanText[0])"
   ]
  },
  {
   "cell_type": "code",
   "execution_count": 8,
   "metadata": {
    "collapsed": false
   },
   "outputs": [
    {
     "data": {
      "text/plain": [
       "5"
      ]
     },
     "execution_count": 8,
     "metadata": {},
     "output_type": "execute_result"
    }
   ],
   "source": [
    "normal_euclid(df.cleanText[0])"
   ]
  },
  {
   "cell_type": "code",
   "execution_count": 9,
   "metadata": {
    "collapsed": true
   },
   "outputs": [],
   "source": [
    "def new_centroid_knn (clean_text):\n",
    "    X = _get_sentence_vectors(clean_text, norm=True)\n",
    "    \n",
    "    winning_sent_index = _get_knn_result(X, similarity_metric='euclid') \n",
    "\n",
    "    x_array = X.A\n",
    "    x_array = np.delete(x_array, [winning_sent_index], axis = 0)\n",
    "    #calculating new centroid WITHOUT winning sentence (use mean)\n",
    "    new_centroid = (np.sum(x_array, axis=0)/x_array.shape[0]) # can't reuse function because of sparse matrix (X vs np array (X.A))\n",
    "    nn = NearestNeighbors(n_neighbors = 1,\n",
    "                     metric = 'euclidean')\n",
    "    nn.fit(X) # fitting full set of sentences still\n",
    "    distance, index = nn.kneighbors([new_centroid])\n",
    "    return index[0][0]"
   ]
  },
  {
   "cell_type": "code",
   "execution_count": 10,
   "metadata": {
    "collapsed": false
   },
   "outputs": [
    {
     "data": {
      "text/plain": [
       "5"
      ]
     },
     "execution_count": 10,
     "metadata": {},
     "output_type": "execute_result"
    }
   ],
   "source": [
    "new_centroid_knn(df.cleanText[0])"
   ]
  },
  {
   "cell_type": "code",
   "execution_count": 11,
   "metadata": {
    "collapsed": true
   },
   "outputs": [],
   "source": [
    " # I believe this is closer to what it should be\n",
    "def uc(clean_text):\n",
    "    return unnormal_cos(clean_text)\n",
    "df['unnormal_cosine'] = df['cleanText'].apply(uc)"
   ]
  },
  {
   "cell_type": "code",
   "execution_count": 12,
   "metadata": {
    "collapsed": true
   },
   "outputs": [],
   "source": [
    "def nc(df):\n",
    "    df['normal_cosine'] = normal_cos(df['cleanText'])\n",
    "    return df\n",
    "df = df.apply(nc, axis=1)"
   ]
  },
  {
   "cell_type": "code",
   "execution_count": 13,
   "metadata": {
    "collapsed": true
   },
   "outputs": [],
   "source": [
    "def ne(df):\n",
    "    df['normal_euclid'] = normal_euclid(df['cleanText'])\n",
    "    return df\n",
    "df = df.apply(ne, axis=1)"
   ]
  },
  {
   "cell_type": "code",
   "execution_count": 14,
   "metadata": {
    "collapsed": true
   },
   "outputs": [],
   "source": [
    "def ncknn(df):\n",
    "    df['new_centroid_compare'] = new_centroid_knn(df['cleanText'])\n",
    "    return df\n",
    "df = df.apply(ncknn, axis = 1)"
   ]
  },
  {
   "cell_type": "code",
   "execution_count": 16,
   "metadata": {
    "collapsed": true
   },
   "outputs": [],
   "source": [
    "save_espn(df, r'data/ESPN_football.csv')"
   ]
  }
 ],
 "metadata": {
  "anaconda-cloud": {},
  "kernelspec": {
   "display_name": "Python [Root]",
   "language": "python",
   "name": "Python [Root]"
  },
  "language_info": {
   "codemirror_mode": {
    "name": "ipython",
    "version": 3
   },
   "file_extension": ".py",
   "mimetype": "text/x-python",
   "name": "python",
   "nbconvert_exporter": "python",
   "pygments_lexer": "ipython3",
   "version": "3.5.2"
  }
 },
 "nbformat": 4,
 "nbformat_minor": 2
}
