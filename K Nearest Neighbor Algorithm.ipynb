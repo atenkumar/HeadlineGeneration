{
 "cells": [
  {
   "cell_type": "markdown",
   "metadata": {},
   "source": [
    "## Algorithm\n",
    "\n",
    "* Convert all sentences to vector quantity\n",
    "* Compare all sentences between each other"
   ]
  },
  {
   "cell_type": "code",
   "execution_count": 1,
   "metadata": {},
   "outputs": [],
   "source": [
    "import pandas as pd\n",
    "import en_core_web_sm\n",
    "import numpy as np\n",
    "nlp = en_core_web_sm.load()\n",
    "data = pd.read_csv(\"ESPN_football.csv\")\n",
    "nlp.add_pipe(nlp.create_pipe('sentencizer'))"
   ]
  },
  {
   "cell_type": "code",
   "execution_count": 2,
   "metadata": {},
   "outputs": [
    {
     "name": "stdout",
     "output_type": "stream",
     "text": [
      "670\n",
      "18\n",
      "23\n",
      "It's unusual for an NFL player to gain weight during the season, and Fournette was unable to do much, if any, conditioning while he was rehabbing his hamstring.\n",
      "Fournette also was caught on video yelling that he was going to \"beat your ass\" at an unknown fan in the stands during the team's embarrassing loss to Tennessee on Dec. 6.\n"
     ]
    }
   ],
   "source": [
    "#two sentences that are most \"alike\" to each other based on similarity vectors\n",
    "sentences = []\n",
    "sim = []\n",
    "s1_idx = []\n",
    "s2_idx = []\n",
    "#clean text or regular text\n",
    "doc = nlp(data.text[0], disable=['parser', 'ner'])\n",
    "for i, s1 in enumerate(doc.sents):\n",
    "    for j, s2 in enumerate(doc.sents):\n",
    "        if not i==j:\n",
    "            s1_idx.append(i)\n",
    "            s2_idx.append(j)\n",
    "            sim.append(s1.similarity(s2))\n",
    "\n",
    "argmax = np.argmax(sim)\n",
    "print(argmax)\n",
    "sent1 = s1_idx[argmax]\n",
    "sent2 = s2_idx[argmax]\n",
    "print(sent1)\n",
    "print(sent2)\n",
    "\n",
    "sent_list = [sent for sent in doc.sents]\n",
    "print(sent_list[sent1])\n",
    "print(sent_list[sent2])   "
   ]
  },
  {
   "cell_type": "code",
   "execution_count": 42,
   "metadata": {},
   "outputs": [
    {
     "data": {
      "text/html": [
       "<div>\n",
       "<style scoped>\n",
       "    .dataframe tbody tr th:only-of-type {\n",
       "        vertical-align: middle;\n",
       "    }\n",
       "\n",
       "    .dataframe tbody tr th {\n",
       "        vertical-align: top;\n",
       "    }\n",
       "\n",
       "    .dataframe thead th {\n",
       "        text-align: right;\n",
       "    }\n",
       "</style>\n",
       "<table border=\"1\" class=\"dataframe\">\n",
       "  <thead>\n",
       "    <tr style=\"text-align: right;\">\n",
       "      <th></th>\n",
       "      <th>author</th>\n",
       "      <th>class</th>\n",
       "      <th>data-id</th>\n",
       "      <th>sport</th>\n",
       "      <th>teamname</th>\n",
       "      <th>timestamp</th>\n",
       "      <th>url</th>\n",
       "      <th>summary</th>\n",
       "      <th>text</th>\n",
       "      <th>headline</th>\n",
       "      <th>clean_text</th>\n",
       "      <th>unnormal_cosine</th>\n",
       "      <th>normal_cosine</th>\n",
       "      <th>normal_euclid</th>\n",
       "      <th>new_centroid_compare</th>\n",
       "    </tr>\n",
       "  </thead>\n",
       "  <tbody>\n",
       "    <tr>\n",
       "      <th>0</th>\n",
       "      <td>Michael DiRocco</td>\n",
       "      <td>story-link</td>\n",
       "      <td>26094253</td>\n",
       "      <td>nfl</td>\n",
       "      <td>buffalo-bills</td>\n",
       "      <td>4h</td>\n",
       "      <td>http://www.espn.com/nfl/story/_/id/26094253/ja...</td>\n",
       "      <td>JACKSONVILLE, Fla. -- The Jacksonville Jaguars...</td>\n",
       "      <td>JACKSONVILLE, Fla. -- The Jacksonville Jaguars...</td>\n",
       "      <td>Jags GM: Fournette 'in a good spot' after meeting</td>\n",
       "      <td>['jacksonville florida -- jacksonville jaguar ...</td>\n",
       "      <td>marrone fournette clear air meeting season end...</td>\n",
       "      <td>work</td>\n",
       "      <td>season end sour note executive vp football ope...</td>\n",
       "      <td>season end sour note executive vp football ope...</td>\n",
       "    </tr>\n",
       "    <tr>\n",
       "      <th>1</th>\n",
       "      <td>Mike Rodak</td>\n",
       "      <td>story-link</td>\n",
       "      <td>buffalo-bills-32911</td>\n",
       "      <td>nfl</td>\n",
       "      <td>buffalo-bills</td>\n",
       "      <td>2d</td>\n",
       "      <td>http://espn.com/blog/buffalo-bills/post/_/id/3...</td>\n",
       "      <td>The cash-flush Buffalo Bills could be among th...</td>\n",
       "      <td>The cash-flush Buffalo Bills could be among th...</td>\n",
       "      <td>Bills' focus on homegrown talent could temper ...</td>\n",
       "      <td>['cash flush buffalo bills active team nfl fre...</td>\n",
       "      <td>white bills 2017 round pick cornerback eligibl...</td>\n",
       "      <td>white bills 2017 round pick cornerback eligibl...</td>\n",
       "      <td>falcons quinn good defensive mind • rams want ...</td>\n",
       "      <td>falcons quinn good defensive mind • rams want ...</td>\n",
       "    </tr>\n",
       "    <tr>\n",
       "      <th>2</th>\n",
       "      <td>Mike Rodak</td>\n",
       "      <td>story-link</td>\n",
       "      <td>buffalo-bills-32889</td>\n",
       "      <td>nfl</td>\n",
       "      <td>buffalo-bills</td>\n",
       "      <td>6d</td>\n",
       "      <td>http://espn.com/blog/buffalo-bills/post/_/id/3...</td>\n",
       "      <td>The Buffalo Bills will be under pressure over ...</td>\n",
       "      <td>The Buffalo Bills will be under pressure over ...</td>\n",
       "      <td>Why Bills should consider trading sacks leader...</td>\n",
       "      <td>['buffalo bills pressure upcoming month improv...</td>\n",
       "      <td>let hughes leave free agency 2019 season bills...</td>\n",
       "      <td>let hughes leave free agency 2019 season bills...</td>\n",
       "      <td>hughes contract situation leave bills multiple...</td>\n",
       "      <td>hughes contract situation leave bills multiple...</td>\n",
       "    </tr>\n",
       "    <tr>\n",
       "      <th>3</th>\n",
       "      <td>Michael C. Wright, Greg Wyshynski, Mike Rodak ...</td>\n",
       "      <td>story-link</td>\n",
       "      <td>25760086</td>\n",
       "      <td>nfl</td>\n",
       "      <td>buffalo-bills</td>\n",
       "      <td>6d</td>\n",
       "      <td>http://www.espn.com/espn/story/_/id/25760086/b...</td>\n",
       "      <td>93-year-old Pete Anton has spent decades worki...</td>\n",
       "      <td>93-year-old Pete Anton has spent decades worki...</td>\n",
       "      <td>Behind-the-scenes game-day jobs you never knew...</td>\n",
       "      <td>['93-year old pete anton spend decade work spu...</td>\n",
       "      <td>hour work game say --</td>\n",
       "      <td>hour work game say --</td>\n",
       "      <td>NaN</td>\n",
       "      <td>NaN</td>\n",
       "    </tr>\n",
       "    <tr>\n",
       "      <th>4</th>\n",
       "      <td>ESPN.com</td>\n",
       "      <td>story-link</td>\n",
       "      <td>25998951</td>\n",
       "      <td>nfl</td>\n",
       "      <td>buffalo-bills</td>\n",
       "      <td>9d</td>\n",
       "      <td>http://www.espn.com/nfl/story/_/id/25998951/ho...</td>\n",
       "      <td>The five quarterbacks drafted in the first rou...</td>\n",
       "      <td>The five quarterbacks drafted in the first rou...</td>\n",
       "      <td>How the NFL's worst quarterbacks can improve i...</td>\n",
       "      <td>['quarterback draft round april learn job seas...</td>\n",
       "      <td>jet coach adam gase experience eight season 20...</td>\n",
       "      <td>improve 2019 start</td>\n",
       "      <td>experience five season 2019 salary 20 million ...</td>\n",
       "      <td>experience five season 2019 salary 20 million ...</td>\n",
       "    </tr>\n",
       "  </tbody>\n",
       "</table>\n",
       "</div>"
      ],
      "text/plain": [
       "                                              author       class  \\\n",
       "0                                    Michael DiRocco  story-link   \n",
       "1                                         Mike Rodak  story-link   \n",
       "2                                         Mike Rodak  story-link   \n",
       "3  Michael C. Wright, Greg Wyshynski, Mike Rodak ...  story-link   \n",
       "4                                           ESPN.com  story-link   \n",
       "\n",
       "               data-id sport       teamname timestamp  \\\n",
       "0             26094253   nfl  buffalo-bills        4h   \n",
       "1  buffalo-bills-32911   nfl  buffalo-bills        2d   \n",
       "2  buffalo-bills-32889   nfl  buffalo-bills        6d   \n",
       "3             25760086   nfl  buffalo-bills        6d   \n",
       "4             25998951   nfl  buffalo-bills        9d   \n",
       "\n",
       "                                                 url  \\\n",
       "0  http://www.espn.com/nfl/story/_/id/26094253/ja...   \n",
       "1  http://espn.com/blog/buffalo-bills/post/_/id/3...   \n",
       "2  http://espn.com/blog/buffalo-bills/post/_/id/3...   \n",
       "3  http://www.espn.com/espn/story/_/id/25760086/b...   \n",
       "4  http://www.espn.com/nfl/story/_/id/25998951/ho...   \n",
       "\n",
       "                                             summary  \\\n",
       "0  JACKSONVILLE, Fla. -- The Jacksonville Jaguars...   \n",
       "1  The cash-flush Buffalo Bills could be among th...   \n",
       "2  The Buffalo Bills will be under pressure over ...   \n",
       "3  93-year-old Pete Anton has spent decades worki...   \n",
       "4  The five quarterbacks drafted in the first rou...   \n",
       "\n",
       "                                                text  \\\n",
       "0  JACKSONVILLE, Fla. -- The Jacksonville Jaguars...   \n",
       "1  The cash-flush Buffalo Bills could be among th...   \n",
       "2  The Buffalo Bills will be under pressure over ...   \n",
       "3  93-year-old Pete Anton has spent decades worki...   \n",
       "4  The five quarterbacks drafted in the first rou...   \n",
       "\n",
       "                                            headline  \\\n",
       "0  Jags GM: Fournette 'in a good spot' after meeting   \n",
       "1  Bills' focus on homegrown talent could temper ...   \n",
       "2  Why Bills should consider trading sacks leader...   \n",
       "3  Behind-the-scenes game-day jobs you never knew...   \n",
       "4  How the NFL's worst quarterbacks can improve i...   \n",
       "\n",
       "                                          clean_text  \\\n",
       "0  ['jacksonville florida -- jacksonville jaguar ...   \n",
       "1  ['cash flush buffalo bills active team nfl fre...   \n",
       "2  ['buffalo bills pressure upcoming month improv...   \n",
       "3  ['93-year old pete anton spend decade work spu...   \n",
       "4  ['quarterback draft round april learn job seas...   \n",
       "\n",
       "                                     unnormal_cosine  \\\n",
       "0  marrone fournette clear air meeting season end...   \n",
       "1  white bills 2017 round pick cornerback eligibl...   \n",
       "2  let hughes leave free agency 2019 season bills...   \n",
       "3                              hour work game say --   \n",
       "4  jet coach adam gase experience eight season 20...   \n",
       "\n",
       "                                       normal_cosine  \\\n",
       "0                                               work   \n",
       "1  white bills 2017 round pick cornerback eligibl...   \n",
       "2  let hughes leave free agency 2019 season bills...   \n",
       "3                              hour work game say --   \n",
       "4                                 improve 2019 start   \n",
       "\n",
       "                                       normal_euclid  \\\n",
       "0  season end sour note executive vp football ope...   \n",
       "1  falcons quinn good defensive mind • rams want ...   \n",
       "2  hughes contract situation leave bills multiple...   \n",
       "3                                                NaN   \n",
       "4  experience five season 2019 salary 20 million ...   \n",
       "\n",
       "                                new_centroid_compare  \n",
       "0  season end sour note executive vp football ope...  \n",
       "1  falcons quinn good defensive mind • rams want ...  \n",
       "2  hughes contract situation leave bills multiple...  \n",
       "3                                                NaN  \n",
       "4  experience five season 2019 salary 20 million ...  "
      ]
     },
     "execution_count": 42,
     "metadata": {},
     "output_type": "execute_result"
    }
   ],
   "source": [
    "data.head()"
   ]
  },
  {
   "cell_type": "code",
   "execution_count": 29,
   "metadata": {},
   "outputs": [],
   "source": [
    "def unnormal_cos (clean_text):\n",
    "    from sklearn.feature_extraction.text import CountVectorizer\n",
    "    from sklearn.neighbors import NearestNeighbors\n",
    "    example = eval(clean_text)\n",
    "    vectorizer = CountVectorizer(lowercase=False,\n",
    "                                 preprocessor=None,\n",
    "                                 token_pattern = r'(?u)\\b[-\\w][-\\w]+\\b'\n",
    "                                )\n",
    "    X = vectorizer.fit_transform(example)\n",
    "    centroid = (np.sum(X.A, axis=0)/X.shape[0])\n",
    "    nn = NearestNeighbors(n_neighbors=1,\n",
    "                          metric = 'cosine' #'euclidean'\n",
    "                         )\n",
    "    nn.fit(X)\n",
    "    distance, index =  nn.kneighbors([centroid])\n",
    "    return example[index[0][0]]"
   ]
  },
  {
   "cell_type": "code",
   "execution_count": 45,
   "metadata": {},
   "outputs": [],
   "source": [
    "def normal_cos (clean_text):\n",
    "    from sklearn.feature_extraction.text import TfidfVectorizer\n",
    "    from sklearn.neighbors import NearestNeighbors\n",
    "    example = eval(clean_text)\n",
    "    vectorizer = TfidfVectorizer(lowercase=False,\n",
    "                                 use_idf = False,\n",
    "                                 norm = 'l1',\n",
    "                                 preprocessor=None,\n",
    "                                 token_pattern = r'(?u)\\b[-\\w][-\\w]+\\b'\n",
    "                                )\n",
    "    X = vectorizer.fit_transform(example)\n",
    "    centroid = (np.sum(X.A, axis=0)/X.shape[0])\n",
    "    nn = NearestNeighbors(n_neighbors = 1,\n",
    "                         metric = 'cosine')\n",
    "    nn.fit(X)\n",
    "    distance, index = nn.kneighbors([centroid])\n",
    "    return example[index[0][0]]"
   ]
  },
  {
   "cell_type": "code",
   "execution_count": 46,
   "metadata": {},
   "outputs": [],
   "source": [
    "def normal_euclid (clean_text):\n",
    "    from sklearn.feature_extraction.text import TfidfVectorizer\n",
    "    from sklearn.neighbors import NearestNeighbors    \n",
    "    example = eval(clean_text)\n",
    "    vectorizer = TfidfVectorizer(lowercase=False,\n",
    "                                 use_idf = False,\n",
    "                                 norm = 'l1',\n",
    "                                 preprocessor=None,\n",
    "                                 token_pattern = r'(?u)\\b[-\\w][-\\w]+\\b'\n",
    "                                )\n",
    "    X = vectorizer.fit_transform(example)\n",
    "    centroid = (np.sum(X.A, axis=0)/X.shape[0])\n",
    "    nn = NearestNeighbors(n_neighbors = 1,\n",
    "                     metric = 'euclidean')\n",
    "    nn.fit(X)\n",
    "    distance, index = nn.kneighbors([centroid])\n",
    "    return example[index[0][0]]"
   ]
  },
  {
   "cell_type": "code",
   "execution_count": 50,
   "metadata": {},
   "outputs": [
    {
     "data": {
      "text/plain": [
       "'jet coach adam gase experience eight season 2019 salary 18 million big issue 2018 last season time keenum enter unquestioned starter team'"
      ]
     },
     "execution_count": 50,
     "metadata": {},
     "output_type": "execute_result"
    }
   ],
   "source": [
    "unnormal_cos(data.clean_text[4])"
   ]
  },
  {
   "cell_type": "code",
   "execution_count": 51,
   "metadata": {},
   "outputs": [
    {
     "data": {
      "text/plain": [
       "'improve 2019 start'"
      ]
     },
     "execution_count": 51,
     "metadata": {},
     "output_type": "execute_result"
    }
   ],
   "source": [
    "normal_cos(data.clean_text[4])"
   ]
  },
  {
   "cell_type": "code",
   "execution_count": 64,
   "metadata": {},
   "outputs": [
    {
     "data": {
      "text/plain": [
       "'experience five season 2019 salary 20 million big issue 2018 choose leaky offensive line see carr sack career high 51 time take 36 sack combine 2016 2017 speedy playmaker receiver inconsistent amari cooper trade october 22 steep learning curve jon gruden future offense dink dunk bomb'"
      ]
     },
     "execution_count": 64,
     "metadata": {},
     "output_type": "execute_result"
    }
   ],
   "source": [
    "normal_euclid(data.clean_text[4])"
   ]
  },
  {
   "cell_type": "code",
   "execution_count": 53,
   "metadata": {},
   "outputs": [],
   "source": [
    "def new_centroid_knn (clean_text):\n",
    "    from sklearn.feature_extraction.text import TfidfVectorizer\n",
    "    from sklearn.neighbors import NearestNeighbors    \n",
    "    example = eval(clean_text)\n",
    "    vectorizer = TfidfVectorizer(lowercase=False,\n",
    "                                 use_idf = False,\n",
    "                                 norm = 'l1',\n",
    "                                 preprocessor=None,\n",
    "                                 token_pattern = r'(?u)\\b[-\\w][-\\w]+\\b'\n",
    "                                )\n",
    "    X = vectorizer.fit_transform(example)\n",
    "    centroid = (np.sum(X.A, axis=0)/X.shape[0])\n",
    "    nn = NearestNeighbors(n_neighbors = 1,\n",
    "                     metric = 'euclidean')\n",
    "    nn.fit(X)\n",
    "    distance, index = nn.kneighbors([centroid])\n",
    "    \n",
    "    winning_sent_index = index[0][0]\n",
    "    x_array = X.A\n",
    "    x_array = np.delete(x_array, [winning_sent_index], axis = 0)\n",
    "    \n",
    "    #calculating new centroid WITHOUT winning sentence (use mean)\n",
    "    new_centroid = (np.sum(x_array, axis=0)/x_array.shape[0])\n",
    "    nn = NearestNeighbors(n_neighbors = 1,\n",
    "                     metric = 'euclidean')\n",
    "\n",
    "    nn.fit(X)\n",
    "    distance, index = nn.kneighbors([new_centroid])\n",
    "    return example[index[0][0]]"
   ]
  },
  {
   "cell_type": "code",
   "execution_count": 65,
   "metadata": {},
   "outputs": [
    {
     "data": {
      "text/plain": [
       "'experience five season 2019 salary 20 million big issue 2018 choose leaky offensive line see carr sack career high 51 time take 36 sack combine 2016 2017 speedy playmaker receiver inconsistent amari cooper trade october 22 steep learning curve jon gruden future offense dink dunk bomb'"
      ]
     },
     "execution_count": 65,
     "metadata": {},
     "output_type": "execute_result"
    }
   ],
   "source": [
    "new_centroid_knn(data.clean_text[4])"
   ]
  },
  {
   "cell_type": "code",
   "execution_count": 90,
   "metadata": {},
   "outputs": [],
   "source": [
    "def uc(df):\n",
    "    df['unnormal_cosine'] = unnormal_cos(df['clean_text'])\n",
    "    return df\n",
    "data = data.apply(uc, axis=1)"
   ]
  },
  {
   "cell_type": "code",
   "execution_count": 91,
   "metadata": {},
   "outputs": [],
   "source": [
    "def nc(df):\n",
    "    df['normal_cosine'] = normal_cos(df['clean_text'])\n",
    "    return df\n",
    "data = data.apply(nc, axis=1)"
   ]
  },
  {
   "cell_type": "code",
   "execution_count": 92,
   "metadata": {},
   "outputs": [],
   "source": [
    "def ne(df):\n",
    "    df['normal_euclid'] = normal_euclid(df['clean_text'])\n",
    "    return df\n",
    "data = data.apply(ne, axis=1)"
   ]
  },
  {
   "cell_type": "code",
   "execution_count": 94,
   "metadata": {},
   "outputs": [],
   "source": [
    "def nc(df):\n",
    "    df['new_centroid_compare'] = new_centroid_knn(df['clean_text'])\n",
    "    return df\n",
    "data = data.apply(nc, axis = 1)"
   ]
  },
  {
   "cell_type": "code",
   "execution_count": 97,
   "metadata": {},
   "outputs": [],
   "source": [
    "data.to_csv(r'C:\\Users\\atenk\\Documents\\ISM\\HeadlineGeneration\\ESPN_football.csv', index=False)"
   ]
  }
 ],
 "metadata": {
  "kernelspec": {
   "display_name": "Python 3",
   "language": "python",
   "name": "python3"
  },
  "language_info": {
   "codemirror_mode": {
    "name": "ipython",
    "version": 3
   },
   "file_extension": ".py",
   "mimetype": "text/x-python",
   "name": "python",
   "nbconvert_exporter": "python",
   "pygments_lexer": "ipython3",
   "version": "3.6.4"
  }
 },
 "nbformat": 4,
 "nbformat_minor": 2
}
