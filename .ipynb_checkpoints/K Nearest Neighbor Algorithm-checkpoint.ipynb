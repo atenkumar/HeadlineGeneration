{
 "cells": [
  {
   "cell_type": "markdown",
   "metadata": {},
   "source": [
    "## Algorithm\n",
    "\n",
    "* Convert all sentences to vector quantity\n",
    "* Compare all sentences between each other"
   ]
  },
  {
   "cell_type": "code",
   "execution_count": 2,
   "metadata": {},
   "outputs": [],
   "source": [
    "import pandas as pd\n",
    "import en_core_web_sm\n",
    "import numpy as np\n",
    "nlp = en_core_web_sm.load()\n",
    "data = pd.read_csv(\"ESPN_football.csv\")\n",
    "nlp.add_pipe(nlp.create_pipe('sentencizer'))"
   ]
  },
  {
   "cell_type": "code",
   "execution_count": 9,
   "metadata": {},
   "outputs": [
    {
     "name": "stdout",
     "output_type": "stream",
     "text": [
      "670\n",
      "18\n",
      "23\n",
      "It's unusual for an NFL player to gain weight during the season, and Fournette was unable to do much, if any, conditioning while he was rehabbing his hamstring.\n",
      "Fournette also was caught on video yelling that he was going to \"beat your ass\" at an unknown fan in the stands during the team's embarrassing loss to Tennessee on Dec. 6.\n"
     ]
    }
   ],
   "source": [
    "sentences = []\n",
    "sim = []\n",
    "s1_idx = []\n",
    "s2_idx = []\n",
    "#clean text or regular text\n",
    "doc = nlp(data.text[0], disable=['parser', 'ner'])\n",
    "for i, s1 in enumerate(doc.sents):\n",
    "    for j, s2 in enumerate(doc.sents):\n",
    "        if not i==j:\n",
    "            s1_idx.append(i)\n",
    "            s2_idx.append(j)\n",
    "            sim.append(s1.similarity(s2))\n",
    "\n",
    "argmax = np.argmax(sim)\n",
    "print(argmax)\n",
    "sent1 = s1_idx[argmax]\n",
    "sent2 = s2_idx[argmax]\n",
    "print(sent1)\n",
    "print(sent2)\n",
    "\n",
    "sent_list = [sent for sent in doc.sents]\n",
    "print(sent_list[sent1])\n",
    "print(sent_list[sent2])   "
   ]
  },
  {
   "cell_type": "code",
   "execution_count": 1,
   "metadata": {},
   "outputs": [],
   "source": [
    "from sklearn.feature_extraction.text import CountVectorizer"
   ]
  },
  {
   "cell_type": "code",
   "execution_count": 10,
   "metadata": {},
   "outputs": [],
   "source": [
    "new_sent_list = [sent.text for sent in doc.sents]"
   ]
  },
  {
   "cell_type": "code",
   "execution_count": 16,
   "metadata": {
    "scrolled": true
   },
   "outputs": [
    {
     "name": "stdout",
     "output_type": "stream",
     "text": [
      "['2018', 'and', 'are', 'at', 'begun', 'but', 'caldwell', 'coach', 'combine', 'concerning', 'dave', 'disappointing', 'doug', 'each', 'eager', 'end', 'fla', 'fournette', 'general', 'good', 'has', 'he', 'his', 'how', 'in', 'jacksonville', 'jaguars', 'know', 'leonard', 'like', 'lot', 'made', 'manager', 'marrone', 'morning', 'nfl', 'of', 'offseason', 'on', 'out', 'phase', 'player', 'pleased', 'praised', 'responds', 'said', 'scouting', 'season', 'see', 'seems', 'spot', 'stuff', 'the', 'think', 'third', 'times', 'to', 'was', 'wednesday', 'with', 'working', 'year']\n"
     ]
    }
   ],
   "source": [
    "vectorizer = CountVectorizer()\n",
    "X = vectorizer.fit_transform(new_sent_list[0:5])\n",
    "print(vectorizer.get_feature_names())"
   ]
  },
  {
   "cell_type": "code",
   "execution_count": 17,
   "metadata": {},
   "outputs": [
    {
     "name": "stdout",
     "output_type": "stream",
     "text": [
      "[[1 2 2 1 1 0 0 0 0 1 0 1 0 0 1 0 1 1 0 0 1 0 1 2 0 2 1 0 1 0 0 0 0 0 0 0\n",
      "  0 1 0 0 0 1 1 0 1 0 0 0 1 0 0 0 2 0 1 1 2 0 0 1 0 1]\n",
      " [0 1 0 1 0 0 1 1 1 0 1 0 1 1 0 0 0 1 1 0 0 0 0 0 0 0 0 0 0 0 0 0 1 1 1 1\n",
      "  0 0 1 0 0 0 0 1 0 0 1 0 0 0 0 0 1 0 0 0 0 0 1 0 0 0]\n",
      " [0 0 0 0 0 0 1 0 0 0 0 0 0 0 0 0 0 0 0 1 0 0 0 0 1 0 0 0 1 0 0 0 0 0 0 0\n",
      "  0 0 0 0 0 0 0 0 0 1 0 0 0 0 1 0 0 1 0 0 0 0 0 0 0 0]\n",
      " [0 0 0 0 0 1 0 0 0 0 0 0 0 0 0 1 0 0 0 1 0 2 0 0 1 0 0 1 0 1 1 1 0 0 0 0\n",
      "  2 0 0 1 1 0 0 0 0 0 0 1 0 1 0 1 2 0 0 0 0 1 0 0 0 0]\n",
      " [0 0 0 0 0 0 0 0 0 0 0 0 0 0 0 0 0 0 0 0 0 1 0 0 0 0 0 0 0 0 0 0 0 0 0 0\n",
      "  0 0 0 1 0 0 0 0 0 0 0 0 0 0 0 0 0 0 0 0 0 0 0 0 1 0]]\n"
     ]
    }
   ],
   "source": [
    "print(X.toarray())"
   ]
  },
  {
   "cell_type": "code",
   "execution_count": null,
   "metadata": {},
   "outputs": [],
   "source": []
  },
  {
   "cell_type": "code",
   "execution_count": null,
   "metadata": {},
   "outputs": [],
   "source": []
  }
 ],
 "metadata": {
  "kernelspec": {
   "display_name": "Python 3",
   "language": "python",
   "name": "python3"
  },
  "language_info": {
   "codemirror_mode": {
    "name": "ipython",
    "version": 3
   },
   "file_extension": ".py",
   "mimetype": "text/x-python",
   "name": "python",
   "nbconvert_exporter": "python",
   "pygments_lexer": "ipython3",
   "version": "3.6.4"
  }
 },
 "nbformat": 4,
 "nbformat_minor": 2
}
