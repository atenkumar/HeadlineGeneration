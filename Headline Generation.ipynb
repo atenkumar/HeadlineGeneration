{
 "cells": [
  {
   "cell_type": "code",
   "execution_count": 2,
   "metadata": {},
   "outputs": [
    {
     "name": "stdout",
     "output_type": "stream",
     "text": [
      "Requirement already satisfied: requests in c:\\users\\atenk\\anaconda3\\lib\\site-packages (2.18.4)\n",
      "Requirement already satisfied: chardet<3.1.0,>=3.0.2 in c:\\users\\atenk\\anaconda3\\lib\\site-packages (from requests) (3.0.4)\n",
      "Requirement already satisfied: idna<2.7,>=2.5 in c:\\users\\atenk\\anaconda3\\lib\\site-packages (from requests) (2.6)\n",
      "Requirement already satisfied: urllib3<1.23,>=1.21.1 in c:\\users\\atenk\\anaconda3\\lib\\site-packages (from requests) (1.22)\n",
      "Requirement already satisfied: certifi>=2017.4.17 in c:\\users\\atenk\\anaconda3\\lib\\site-packages (from requests) (2018.1.18)\n"
     ]
    }
   ],
   "source": [
    "! pip install requests"
   ]
  },
  {
   "cell_type": "code",
   "execution_count": 3,
   "metadata": {},
   "outputs": [
    {
     "name": "stdout",
     "output_type": "stream",
     "text": [
      "Requirement already satisfied: beautifulsoup4 in c:\\users\\atenk\\anaconda3\\lib\\site-packages (4.6.0)\n"
     ]
    }
   ],
   "source": [
    "! pip install beautifulsoup4"
   ]
  },
  {
   "cell_type": "code",
   "execution_count": 14,
   "metadata": {},
   "outputs": [
    {
     "name": "stdout",
     "output_type": "stream",
     "text": [
      "Adam Schefter breaks down Saints owner Gayle Benson's comments about the controversial missed pass interference call in the loss to the Rams. (0:58)\n",
      "METAIRIE, La. -- New Orleans Saints fans are having their say.\n",
      "After a stunning missed call by officials helped to keep the Saints out of the Super Bowl, angry fans have been reacting in various ways -- from lawsuits and petitions, to billboards in Atlanta, to boycotts throughout the New Orleans area, to a letter from Louisiana's governor that chastised NFL commissioner Roger Goodell.\n",
      "In the wake of the no-call that helped decide Sunday's NFC Championship Game, the NFL will discuss whether to make pass-interference penalties reviewable, a source confirmed to ESPN.\n",
      "Sunday's no-call in the NFC championship game shows us why it's time for the NFL to make pass interference a reviewable play.\n",
      "Sean Payton said the NFL's head of officials told him the officials \"blew the call\" by not penalizing the Los Angeles Rams for pass interference late in the fourth quarter of Sunday's NFC Championship Game.\n",
      "At least two lawsuits have been filed by local attorneys on behalf of Saints fans who want to compel Goodell to use his power under the NFL rulebook to replay the final 1 minute, 49 seconds of regulation of New Orleans' overtime loss to the Los Angeles Rams in Sunday's NFC Championship Game.\n",
      "Meanwhile, Saints fan Matt Bowers has rented billboards in and around the Atlanta area -- where Super Bowl LIII is being held -- to voice his displeasure with the league.\n",
      "\"And I'm not done yet,\" Bowers, who owns car dealerships throughout the Southeast, told ESPN. \"I'm going to do my best to bring as much attention to this as possible -- and I'm not going to stop until I make them miserable.\"\n",
      "Saints running back Alvin Kamara was among those who supported Bowers' cause on social media.\n",
      "MY BOYYYYY @Matthew_Bowers_ 🕺🏾 https://t.co/8h8tiTPgzs\n",
      "Several New Orleans-area bars and restaurants have already vowed to have anti-Super Bowl parties by refusing to show the championship game. One local bakery was selling cookies with the face of referee Bill Vinovich with a red slash through it. And local businesses throughout the area have posted signs with clever references to the botched call.\n",
      "Also, a petition that started on Change.org to replay the game had nearly 600,000 signatures as of Tuesday afternoon.\n",
      "THIS JUST IN: On the Pontchartrain Causeway... pic.twitter.com/32LNrYw28b\n",
      "Fans (and some Saints players) clamoring for a rematch have pointed to an obscure NFL rule that deals with \"Extraordinarily Unfair Acts.\"\n",
      "According to Rule 17, Section 2, Article 1, the NFL commissioner has the \"sole authority to investigate and take appropriate disciplinary and/or corrective measures if any club action, non-participant interference, or calamity occurs in an NFL game which the Commissioner deems so extraordinarily unfair or outside the accepted tactics encountered in professional football that such action has a major effect on the result of the game.\"\n",
      "However, Article 2 states, \"The Commissioner will not apply authority in cases of complaints by clubs concerning judgmental errors or routine errors of omission by game officials. Games involving such complaints will continue to stand as completed.\"\n",
      "The Saints have taken no formal action against the league so far, but owner Gayle Benson released a statement Monday saying she has \"been in touch with the NFL regarding yesterday's events and will aggressively pursue changes in NFL policies to ensure no team and fan base is ever put in a similar position again.\"\n",
      "In her statement, Benson added: \"It is a disservice to our coaches, players, employees and, most importantly, the fans who make our game possible. The NFL must always commit to providing the most basic of expectations -- fairness and integrity.\"\n",
      "Louisiana Gov. John Bel Edwards sent a letter Tuesday to Goodell to express the \"deep disappointment'' of the people of Louisiana and Saints fans.\n",
      "\"The very least that any fan of the Saints, or any other team, should be able to expect from any game is that the result will be decided by the players on the field,'' Edwards wrote. \"By missing the obvious, blatant and intentional penalty at the end of the game, the referees in Sunday's game undermined that expectation and unfortunately were allowed to determine the winner.\"\n",
      "Edwards is calling on the NFL to make rule changes for next season that would allow for expanding replay reviews. He said without such adjustments, \"the very integrity of the game will be called into question.''\n",
      "And the governor told Goodell that while Louisiana football fans will move past the game, \"we will not forget it.''\n",
      "Neither the NFL nor Saints coach Sean Payton has addressed the media following Payton's postgame news conference, during which he revealed that the NFL's head of officials, Alberto Riveron, called him immediately after the game and admitted the officials \"blew\" the call.\n",
      "ESPN's Adam Schefter and The Associated Press contributed to this report.\n",
      "To help make this website better, to improve and personalize your experience and for advertising purposes, are you happy to accept cookies and other technologies?\n"
     ]
    }
   ],
   "source": [
    "from bs4 import BeautifulSoup\n",
    "import requests\n",
    "\n",
    "page_link = 'http://www.espn.com/nfl/story/_/id/25824920/angry-new-orleans-saints-fans-file-lawsuits-put-billboards'\n",
    "\n",
    "page_response = requests.get(page_link, timeout = 5)\n",
    "\n",
    "page_content = BeautifulSoup(page_response.content, \"html.parser\")\n",
    "\n",
    "textContent = []\n",
    "for i in range(0, 26):\n",
    "    paragraphs = page_content.find_all(\"p\")[i].text\n",
    "    textContent.append(paragraphs)\n",
    "    \n",
    "for i in textContent:\n",
    "    print (i)"
   ]
  },
  {
   "cell_type": "code",
   "execution_count": null,
   "metadata": {},
   "outputs": [],
   "source": [
    "! pip install -U spacy"
   ]
  },
  {
   "cell_type": "code",
   "execution_count": null,
   "metadata": {},
   "outputs": [],
   "source": [
    "import spacy"
   ]
  }
 ],
 "metadata": {
  "kernelspec": {
   "display_name": "Python 3",
   "language": "python",
   "name": "python3"
  },
  "language_info": {
   "codemirror_mode": {
    "name": "ipython",
    "version": 3
   },
   "file_extension": ".py",
   "mimetype": "text/x-python",
   "name": "python",
   "nbconvert_exporter": "python",
   "pygments_lexer": "ipython3",
   "version": "3.6.4"
  }
 },
 "nbformat": 4,
 "nbformat_minor": 2
}
