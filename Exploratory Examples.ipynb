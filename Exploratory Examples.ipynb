{
 "cells": [
  {
   "cell_type": "markdown",
   "metadata": {},
   "source": [
    "## Examples \n",
    "\n",
    "* 4 examples to show which method/algorithm is best for summarization:\n",
    "    * Article 6\n",
    "    * Article 53\n",
    "    * Article 341\n",
    "    * Article 45"
   ]
  },
  {
   "cell_type": "code",
   "execution_count": 1,
   "metadata": {
    "collapsed": true
   },
   "outputs": [],
   "source": [
    "from utils import load_espn, save_espn\n",
    "path = r'data/ESPN_football.csv'\n",
    "df = load_espn(path)"
   ]
  },
  {
   "cell_type": "code",
   "execution_count": 27,
   "metadata": {
    "collapsed": false
   },
   "outputs": [
    {
     "data": {
      "text/plain": [
       "Index(['author', 'class', 'data-id', 'sport', 'teamname', 'timestamp', 'url',\n",
       "       'summary', 'headline', 'rawText', 'text', 'cleanText',\n",
       "       'unnormal_cosine', 'normal_cosine', 'normal_euclid',\n",
       "       'new_centroid_compare', 'LSASummarizer', 'LexRankSummarizer',\n",
       "       'TextRankSummarizer', 'SumBasicSummarizer', 'KLSumSummarizer',\n",
       "       'base_url', 'LSAFuzzy', 'LexRankFuzzy', 'TextRankFuzzy',\n",
       "       'SumBasicFuzzy', 'KLSumFuzzy'],\n",
       "      dtype='object')"
      ]
     },
     "execution_count": 27,
     "metadata": {},
     "output_type": "execute_result"
    }
   ],
   "source": [
    "df.columns"
   ]
  },
  {
   "cell_type": "code",
   "execution_count": 65,
   "metadata": {
    "collapsed": false,
    "scrolled": true
   },
   "outputs": [
    {
     "data": {
      "text/html": [
       "<div>\n",
       "<style scoped>\n",
       "    .dataframe tbody tr th:only-of-type {\n",
       "        vertical-align: middle;\n",
       "    }\n",
       "\n",
       "    .dataframe tbody tr th {\n",
       "        vertical-align: top;\n",
       "    }\n",
       "\n",
       "    .dataframe thead th {\n",
       "        text-align: right;\n",
       "    }\n",
       "</style>\n",
       "<table border=\"1\" class=\"dataframe\">\n",
       "  <thead>\n",
       "    <tr style=\"text-align: right;\">\n",
       "      <th></th>\n",
       "      <th>40</th>\n",
       "      <th>41</th>\n",
       "      <th>42</th>\n",
       "      <th>43</th>\n",
       "      <th>44</th>\n",
       "      <th>45</th>\n",
       "      <th>46</th>\n",
       "      <th>47</th>\n",
       "      <th>48</th>\n",
       "      <th>49</th>\n",
       "      <th>...</th>\n",
       "      <th>60</th>\n",
       "      <th>61</th>\n",
       "      <th>62</th>\n",
       "      <th>63</th>\n",
       "      <th>64</th>\n",
       "      <th>65</th>\n",
       "      <th>66</th>\n",
       "      <th>67</th>\n",
       "      <th>68</th>\n",
       "      <th>69</th>\n",
       "    </tr>\n",
       "  </thead>\n",
       "  <tbody>\n",
       "    <tr>\n",
       "      <th>author</th>\n",
       "      <td>Howard Bryant</td>\n",
       "      <td>Rich Cimini</td>\n",
       "      <td>Rich Cimini</td>\n",
       "      <td>ESPN.com</td>\n",
       "      <td>Dan Graziano</td>\n",
       "      <td>Rich Cimini</td>\n",
       "      <td>Todd McShay</td>\n",
       "      <td>Todd Archer</td>\n",
       "      <td>ESPN.com</td>\n",
       "      <td>Todd Archer</td>\n",
       "      <td>...</td>\n",
       "      <td>Dan Graziano</td>\n",
       "      <td>Pat McManamon and Jordan Raanan</td>\n",
       "      <td>Jordan Raanan</td>\n",
       "      <td>Tim McManus</td>\n",
       "      <td>Todd McShay</td>\n",
       "      <td>Howard Bryant</td>\n",
       "      <td>Tim McManus</td>\n",
       "      <td>ESPN.com</td>\n",
       "      <td>Dan Graziano</td>\n",
       "      <td>Tim McManus</td>\n",
       "    </tr>\n",
       "    <tr>\n",
       "      <th>class</th>\n",
       "      <td>story-link</td>\n",
       "      <td>story-link</td>\n",
       "      <td>story-link</td>\n",
       "      <td>story-link</td>\n",
       "      <td>story-link</td>\n",
       "      <td>story-link</td>\n",
       "      <td>story-link</td>\n",
       "      <td>story-link</td>\n",
       "      <td>story-link</td>\n",
       "      <td>story-link</td>\n",
       "      <td>...</td>\n",
       "      <td>story-link</td>\n",
       "      <td>story-link</td>\n",
       "      <td>story-link</td>\n",
       "      <td>story-link</td>\n",
       "      <td>story-link</td>\n",
       "      <td>story-link</td>\n",
       "      <td>story-link</td>\n",
       "      <td>story-link</td>\n",
       "      <td>story-link</td>\n",
       "      <td>story-link</td>\n",
       "    </tr>\n",
       "    <tr>\n",
       "      <th>data-id</th>\n",
       "      <td>26440941</td>\n",
       "      <td>26500585</td>\n",
       "      <td>new-york-jets-79578</td>\n",
       "      <td>26473482</td>\n",
       "      <td>26472024</td>\n",
       "      <td>new-york-jets-79539</td>\n",
       "      <td>26489910</td>\n",
       "      <td>26499614</td>\n",
       "      <td>26473482</td>\n",
       "      <td>dallas-cowboys-4769083</td>\n",
       "      <td>...</td>\n",
       "      <td>26472024</td>\n",
       "      <td>26432284</td>\n",
       "      <td>new-york-giants-58812</td>\n",
       "      <td>26531222</td>\n",
       "      <td>26489910</td>\n",
       "      <td>26440941</td>\n",
       "      <td>philadelphia-eagles-27379</td>\n",
       "      <td>26473482</td>\n",
       "      <td>26472024</td>\n",
       "      <td>philadelphia-eagles-27365</td>\n",
       "    </tr>\n",
       "    <tr>\n",
       "      <th>sport</th>\n",
       "      <td>nfl</td>\n",
       "      <td>nfl</td>\n",
       "      <td>nfl</td>\n",
       "      <td>nfl</td>\n",
       "      <td>nfl</td>\n",
       "      <td>nfl</td>\n",
       "      <td>nfl</td>\n",
       "      <td>nfl</td>\n",
       "      <td>nfl</td>\n",
       "      <td>nfl</td>\n",
       "      <td>...</td>\n",
       "      <td>nfl</td>\n",
       "      <td>nfl</td>\n",
       "      <td>nfl</td>\n",
       "      <td>nfl</td>\n",
       "      <td>nfl</td>\n",
       "      <td>nfl</td>\n",
       "      <td>nfl</td>\n",
       "      <td>nfl</td>\n",
       "      <td>nfl</td>\n",
       "      <td>nfl</td>\n",
       "    </tr>\n",
       "    <tr>\n",
       "      <th>teamname</th>\n",
       "      <td>new-york-jets</td>\n",
       "      <td>new-york-jets</td>\n",
       "      <td>new-york-jets</td>\n",
       "      <td>new-york-jets</td>\n",
       "      <td>new-york-jets</td>\n",
       "      <td>new-york-jets</td>\n",
       "      <td>dallas-cowboys</td>\n",
       "      <td>dallas-cowboys</td>\n",
       "      <td>dallas-cowboys</td>\n",
       "      <td>dallas-cowboys</td>\n",
       "      <td>...</td>\n",
       "      <td>new-york-giants</td>\n",
       "      <td>new-york-giants</td>\n",
       "      <td>new-york-giants</td>\n",
       "      <td>philadelphia-eagles</td>\n",
       "      <td>philadelphia-eagles</td>\n",
       "      <td>philadelphia-eagles</td>\n",
       "      <td>philadelphia-eagles</td>\n",
       "      <td>philadelphia-eagles</td>\n",
       "      <td>philadelphia-eagles</td>\n",
       "      <td>philadelphia-eagles</td>\n",
       "    </tr>\n",
       "    <tr>\n",
       "      <th>timestamp</th>\n",
       "      <td>4d</td>\n",
       "      <td>4d</td>\n",
       "      <td>5d</td>\n",
       "      <td>6d</td>\n",
       "      <td>7d</td>\n",
       "      <td>9d</td>\n",
       "      <td>4d</td>\n",
       "      <td>4d</td>\n",
       "      <td>6d</td>\n",
       "      <td>6d</td>\n",
       "      <td>...</td>\n",
       "      <td>7d</td>\n",
       "      <td>12d</td>\n",
       "      <td>14d</td>\n",
       "      <td>9h</td>\n",
       "      <td>4d</td>\n",
       "      <td>4d</td>\n",
       "      <td>5d</td>\n",
       "      <td>6d</td>\n",
       "      <td>7d</td>\n",
       "      <td>8d</td>\n",
       "    </tr>\n",
       "    <tr>\n",
       "      <th>url</th>\n",
       "      <td>http://www.espn.com/nfl/story/_/id/26440941/st...</td>\n",
       "      <td>http://www.espn.com/nfl/story/_/id/26500585/je...</td>\n",
       "      <td>http://espn.com/blog/new-york-jets/post/_/id/7...</td>\n",
       "      <td>http://www.espn.com/nfl/draft2019/story/_/id/2...</td>\n",
       "      <td>http://www.espn.com/nfl/draft2019/story/_/id/2...</td>\n",
       "      <td>http://espn.com/blog/new-york-jets/post/_/id/7...</td>\n",
       "      <td>http://insider.espn.com/nfl/draft2019/insider/...</td>\n",
       "      <td>http://www.espn.com/nfl/story/_/id/26499614/da...</td>\n",
       "      <td>http://www.espn.com/nfl/draft2019/story/_/id/2...</td>\n",
       "      <td>http://espn.com/blog/dallas-cowboys/post/_/id/...</td>\n",
       "      <td>...</td>\n",
       "      <td>http://www.espn.com/nfl/draft2019/story/_/id/2...</td>\n",
       "      <td>http://www.espn.com/nfl/story/_/id/26432284/th...</td>\n",
       "      <td>http://espn.com/blog/new-york-giants/post/_/id...</td>\n",
       "      <td>http://www.espn.com/nfl/story/_/id/26531222/ea...</td>\n",
       "      <td>http://insider.espn.com/nfl/draft2019/insider/...</td>\n",
       "      <td>http://www.espn.com/nfl/story/_/id/26440941/st...</td>\n",
       "      <td>http://espn.com/blog/philadelphia-eagles/post/...</td>\n",
       "      <td>http://www.espn.com/nfl/draft2019/story/_/id/2...</td>\n",
       "      <td>http://www.espn.com/nfl/draft2019/story/_/id/2...</td>\n",
       "      <td>http://espn.com/blog/philadelphia-eagles/post/...</td>\n",
       "    </tr>\n",
       "    <tr>\n",
       "      <th>summary</th>\n",
       "      <td>Max Kellerman tries to make sense of the Twitt...</td>\n",
       "      <td>The New York Jets added a veteran backup behin...</td>\n",
       "      <td>By words and actions (and non-actions), the Ne...</td>\n",
       "      <td>The NFL draft annually brings back memories, a...</td>\n",
       "      <td>Draft Academy previews the lead-up to the NFL ...</td>\n",
       "      <td>Instead of spending his days in a dark office,...</td>\n",
       "      <td>Todd McShay hears that the Giants might not be...</td>\n",
       "      <td>FRISCO, Texas -- Add Dallas Cowboys right tack...</td>\n",
       "      <td>The NFL draft annually brings back memories, a...</td>\n",
       "      <td>FRISCO, Texas -- The breakthrough in contract ...</td>\n",
       "      <td>...</td>\n",
       "      <td>Draft Academy previews the lead-up to the NFL ...</td>\n",
       "      <td>The Giants shocked the NFL world when they tra...</td>\n",
       "      <td>Max Kellerman laughs off Giants GM Dave Gettle...</td>\n",
       "      <td>Carson Wentz updates the latest on his recover...</td>\n",
       "      <td>Todd McShay hears that the Giants might not be...</td>\n",
       "      <td>Max Kellerman tries to make sense of the Twitt...</td>\n",
       "      <td>Check out some highlights from NFL draft prosp...</td>\n",
       "      <td>The NFL draft annually brings back memories, a...</td>\n",
       "      <td>Draft Academy previews the lead-up to the NFL ...</td>\n",
       "      <td>PHILADELPHIA -- Eagles chairman and CEO Jeffre...</td>\n",
       "    </tr>\n",
       "    <tr>\n",
       "      <th>headline</th>\n",
       "      <td>What's behind the Steelers' breakup of Ben Roe...</td>\n",
       "      <td>Jets bring on Montgomery to back up Bell</td>\n",
       "      <td>New York Jets want to play 'Let's Make a Deal,...</td>\n",
       "      <td>NFL draft do-overs: Let's re-pick ... and fix ...</td>\n",
       "      <td>Ranking teams most likely to trade up -- and d...</td>\n",
       "      <td>Five challenges for Jets' Adam Gase as he atta...</td>\n",
       "      <td>Todd McShay's top five 2019 NFL draft needs fo...</td>\n",
       "      <td>Source: Dallas OT Collins had shoulder surgery</td>\n",
       "      <td>NFL draft do-overs: Let's re-pick ... and fix ...</td>\n",
       "      <td>Cowboys willing to bend in contracts if player...</td>\n",
       "      <td>...</td>\n",
       "      <td>Ranking teams most likely to trade up -- and d...</td>\n",
       "      <td>'This can't be real': How Browns pulled off Od...</td>\n",
       "      <td>Giants' no-nonsense approach has contributed t...</td>\n",
       "      <td>Eagles' Wentz says stress fracture is still he...</td>\n",
       "      <td>Todd McShay's top five 2019 NFL draft needs fo...</td>\n",
       "      <td>What's behind the Steelers' breakup of Ben Roe...</td>\n",
       "      <td>Who will Eagles pick at No. 25? Past eight dra...</td>\n",
       "      <td>NFL draft do-overs: Let's re-pick ... and fix ...</td>\n",
       "      <td>Ranking teams most likely to trade up -- and d...</td>\n",
       "      <td>Eagles finding bargains in over-30 bin, stockp...</td>\n",
       "    </tr>\n",
       "    <tr>\n",
       "      <th>rawText</th>\n",
       "      <td>Max Kellerman tries to make sense of the Twitt...</td>\n",
       "      <td>The New York Jets added a veteran backup behin...</td>\n",
       "      <td>By words and actions (and non-actions), the Ne...</td>\n",
       "      <td>The NFL draft annually brings back memories, a...</td>\n",
       "      <td>Draft Academy previews the lead-up to the NFL ...</td>\n",
       "      <td>Instead of spending his days in a dark office,...</td>\n",
       "      <td>Todd McShay hears that the Giants might not be...</td>\n",
       "      <td>FRISCO, Texas -- Add Dallas Cowboys right tack...</td>\n",
       "      <td>The NFL draft annually brings back memories, a...</td>\n",
       "      <td>FRISCO, Texas -- The breakthrough in contract ...</td>\n",
       "      <td>...</td>\n",
       "      <td>Draft Academy previews the lead-up to the NFL ...</td>\n",
       "      <td>The Giants shocked the NFL world when they tra...</td>\n",
       "      <td>Max Kellerman laughs off Giants GM Dave Gettle...</td>\n",
       "      <td>Carson Wentz updates the latest on his recover...</td>\n",
       "      <td>Todd McShay hears that the Giants might not be...</td>\n",
       "      <td>Max Kellerman tries to make sense of the Twitt...</td>\n",
       "      <td>Check out some highlights from NFL draft prosp...</td>\n",
       "      <td>The NFL draft annually brings back memories, a...</td>\n",
       "      <td>Draft Academy previews the lead-up to the NFL ...</td>\n",
       "      <td>PHILADELPHIA -- Eagles chairman and CEO Jeffre...</td>\n",
       "    </tr>\n",
       "    <tr>\n",
       "      <th>text</th>\n",
       "      <td>[Max Kellerman tries to make sense of the Twit...</td>\n",
       "      <td>[The New York Jets added a veteran backup behi...</td>\n",
       "      <td>[By words and actions (and non-actions), the N...</td>\n",
       "      <td>[The NFL draft annually brings back memories, ...</td>\n",
       "      <td>[Draft Academy previews the lead-up to the NFL...</td>\n",
       "      <td>[Instead of spending his days in a dark office...</td>\n",
       "      <td>[Todd McShay hears that the Giants might not b...</td>\n",
       "      <td>[FRISCO, Texas -- Add Dallas Cowboys right tac...</td>\n",
       "      <td>[The NFL draft annually brings back memories, ...</td>\n",
       "      <td>[FRISCO, Texas -- The breakthrough in contract...</td>\n",
       "      <td>...</td>\n",
       "      <td>[Draft Academy previews the lead-up to the NFL...</td>\n",
       "      <td>[The Giants shocked the NFL world when they tr...</td>\n",
       "      <td>[Max Kellerman laughs off Giants GM Dave Gettl...</td>\n",
       "      <td>[Carson Wentz updates the latest on his recove...</td>\n",
       "      <td>[Todd McShay hears that the Giants might not b...</td>\n",
       "      <td>[Max Kellerman tries to make sense of the Twit...</td>\n",
       "      <td>[Check out some highlights from NFL draft pros...</td>\n",
       "      <td>[The NFL draft annually brings back memories, ...</td>\n",
       "      <td>[Draft Academy previews the lead-up to the NFL...</td>\n",
       "      <td>[PHILADELPHIA -- Eagles chairman and CEO Jeffr...</td>\n",
       "    </tr>\n",
       "    <tr>\n",
       "      <th>cleanText</th>\n",
       "      <td>[max kellerman try sense twitter beef antonio ...</td>\n",
       "      <td>[new york jets add veteran backup le'veon bell...</td>\n",
       "      <td>[word action non action new york jet advertise...</td>\n",
       "      <td>[nfl draft annually bring memory memory exactl...</td>\n",
       "      <td>[draft academy preview lead nfl draft nfl pros...</td>\n",
       "      <td>[instead spend day dark office break hour hour...</td>\n",
       "      <td>[todd mcshay hear giants love dwayne haskins p...</td>\n",
       "      <td>[frisco texas -- add dallas cowboys right tack...</td>\n",
       "      <td>[nfl draft annually bring memory memory exactl...</td>\n",
       "      <td>[frisco texas -- breakthrough contract negotia...</td>\n",
       "      <td>...</td>\n",
       "      <td>[draft academy preview lead nfl draft nfl pros...</td>\n",
       "      <td>[giants shock nfl world trade odell beckham jr...</td>\n",
       "      <td>[max kellerman laugh giants gm dave gettleman ...</td>\n",
       "      <td>[carson wentz update late recovery stress frac...</td>\n",
       "      <td>[todd mcshay hear giants love dwayne haskins p...</td>\n",
       "      <td>[max kellerman try sense twitter beef antonio ...</td>\n",
       "      <td>[check highlight nfl draft prospect clelin fer...</td>\n",
       "      <td>[nfl draft annually bring memory memory exactl...</td>\n",
       "      <td>[draft academy preview lead nfl draft nfl pros...</td>\n",
       "      <td>[philadelphia -- eagles chairman ceo jeffrey l...</td>\n",
       "    </tr>\n",
       "    <tr>\n",
       "      <th>unnormal_cosine</th>\n",
       "      <td>27</td>\n",
       "      <td>18</td>\n",
       "      <td>11</td>\n",
       "      <td>136</td>\n",
       "      <td>18</td>\n",
       "      <td>71</td>\n",
       "      <td>9</td>\n",
       "      <td>5</td>\n",
       "      <td>136</td>\n",
       "      <td>40</td>\n",
       "      <td>...</td>\n",
       "      <td>18</td>\n",
       "      <td>0</td>\n",
       "      <td>9</td>\n",
       "      <td>18</td>\n",
       "      <td>9</td>\n",
       "      <td>27</td>\n",
       "      <td>13</td>\n",
       "      <td>136</td>\n",
       "      <td>18</td>\n",
       "      <td>7</td>\n",
       "    </tr>\n",
       "    <tr>\n",
       "      <th>normal_cosine</th>\n",
       "      <td>27</td>\n",
       "      <td>4</td>\n",
       "      <td>6</td>\n",
       "      <td>136</td>\n",
       "      <td>18</td>\n",
       "      <td>42</td>\n",
       "      <td>9</td>\n",
       "      <td>13</td>\n",
       "      <td>136</td>\n",
       "      <td>14</td>\n",
       "      <td>...</td>\n",
       "      <td>18</td>\n",
       "      <td>0</td>\n",
       "      <td>39</td>\n",
       "      <td>18</td>\n",
       "      <td>9</td>\n",
       "      <td>27</td>\n",
       "      <td>28</td>\n",
       "      <td>136</td>\n",
       "      <td>18</td>\n",
       "      <td>28</td>\n",
       "    </tr>\n",
       "    <tr>\n",
       "      <th>normal_euclid</th>\n",
       "      <td>20</td>\n",
       "      <td>9</td>\n",
       "      <td>11</td>\n",
       "      <td>196</td>\n",
       "      <td>31</td>\n",
       "      <td>29</td>\n",
       "      <td>9</td>\n",
       "      <td>5</td>\n",
       "      <td>196</td>\n",
       "      <td>2</td>\n",
       "      <td>...</td>\n",
       "      <td>31</td>\n",
       "      <td>81</td>\n",
       "      <td>9</td>\n",
       "      <td>20</td>\n",
       "      <td>9</td>\n",
       "      <td>20</td>\n",
       "      <td>13</td>\n",
       "      <td>196</td>\n",
       "      <td>31</td>\n",
       "      <td>7</td>\n",
       "    </tr>\n",
       "    <tr>\n",
       "      <th>new_centroid_compare</th>\n",
       "      <td>20</td>\n",
       "      <td>10</td>\n",
       "      <td>11</td>\n",
       "      <td>196</td>\n",
       "      <td>31</td>\n",
       "      <td>29</td>\n",
       "      <td>9</td>\n",
       "      <td>5</td>\n",
       "      <td>196</td>\n",
       "      <td>2</td>\n",
       "      <td>...</td>\n",
       "      <td>31</td>\n",
       "      <td>81</td>\n",
       "      <td>9</td>\n",
       "      <td>3</td>\n",
       "      <td>9</td>\n",
       "      <td>20</td>\n",
       "      <td>13</td>\n",
       "      <td>196</td>\n",
       "      <td>31</td>\n",
       "      <td>7</td>\n",
       "    </tr>\n",
       "    <tr>\n",
       "      <th>LSASummarizer</th>\n",
       "      <td>38</td>\n",
       "      <td>Jets coach Adam Gase has spoken highly of back...</td>\n",
       "      <td>2</td>\n",
       "      <td>Sure, just about every team in the NFL would l...</td>\n",
       "      <td>Draft Academy documents the journey of six pro...</td>\n",
       "      <td>Cultivate his rapport with Mike Maccagnan : Ga...</td>\n",
       "      <td>6</td>\n",
       "      <td>12</td>\n",
       "      <td>Sure, just about every team in the NFL would l...</td>\n",
       "      <td>FRISCO, Texas -- The breakthrough in contract ...</td>\n",
       "      <td>...</td>\n",
       "      <td>Draft Academy documents the journey of six pro...</td>\n",
       "      <td>140</td>\n",
       "      <td>23</td>\n",
       "      <td>PHILADELPHIA -- Eagles quarterback Carson Went...</td>\n",
       "      <td>6</td>\n",
       "      <td>38</td>\n",
       "      <td>15</td>\n",
       "      <td>Sure, just about every team in the NFL would l...</td>\n",
       "      <td>Draft Academy documents the journey of six pro...</td>\n",
       "      <td>0</td>\n",
       "    </tr>\n",
       "    <tr>\n",
       "      <th>LexRankSummarizer</th>\n",
       "      <td>22</td>\n",
       "      <td>12</td>\n",
       "      <td>31</td>\n",
       "      <td>10 pick)</td>\n",
       "      <td>30</td>\n",
       "      <td>71</td>\n",
       "      <td>The Bills have their quarterback in Josh Allen...</td>\n",
       "      <td>4</td>\n",
       "      <td>10 pick)</td>\n",
       "      <td>33</td>\n",
       "      <td>...</td>\n",
       "      <td>30</td>\n",
       "      <td>190</td>\n",
       "      <td>\"Unfortunately, some of the players move on an...</td>\n",
       "      <td>13</td>\n",
       "      <td>The Bills have their quarterback in Josh Allen...</td>\n",
       "      <td>22</td>\n",
       "      <td>Clelin Ferrell is ferocious (1:31)Check out so...</td>\n",
       "      <td>10 pick)</td>\n",
       "      <td>30</td>\n",
       "      <td>\"So, when you look ahead over the next 13 mont...</td>\n",
       "    </tr>\n",
       "    <tr>\n",
       "      <th>TextRankSummarizer</th>\n",
       "      <td>27</td>\n",
       "      <td>2</td>\n",
       "      <td>31</td>\n",
       "      <td>53</td>\n",
       "      <td>29</td>\n",
       "      <td>71</td>\n",
       "      <td>Top draft needs: TE, WR, DT, EDGE, QB</td>\n",
       "      <td>4</td>\n",
       "      <td>53</td>\n",
       "      <td>On the call, Cowboys executive vice president ...</td>\n",
       "      <td>...</td>\n",
       "      <td>29</td>\n",
       "      <td>172</td>\n",
       "      <td>(1:47)Max Kellerman laughs off Giants GM Dave ...</td>\n",
       "      <td>18</td>\n",
       "      <td>Top draft needs: TE, WR, DT, EDGE, QB</td>\n",
       "      <td>27</td>\n",
       "      <td>Their inward lean on sports science and analyt...</td>\n",
       "      <td>53</td>\n",
       "      <td>29</td>\n",
       "      <td>\"So, when you look ahead over the next 13 mont...</td>\n",
       "    </tr>\n",
       "    <tr>\n",
       "      <th>SumBasicSummarizer</th>\n",
       "      <td>22</td>\n",
       "      <td>13</td>\n",
       "      <td>27</td>\n",
       "      <td>10 pick)</td>\n",
       "      <td>65</td>\n",
       "      <td>42</td>\n",
       "      <td>Top draft needs: QB, G, OT, C, EDGE</td>\n",
       "      <td>3</td>\n",
       "      <td>10 pick)</td>\n",
       "      <td>14</td>\n",
       "      <td>...</td>\n",
       "      <td>65</td>\n",
       "      <td>40</td>\n",
       "      <td>39</td>\n",
       "      <td>\"Right now we're kind of taking it week by week.</td>\n",
       "      <td>Top draft needs: QB, G, OT, C, EDGE</td>\n",
       "      <td>22</td>\n",
       "      <td>PHILADELPHIA -- For all of the sizzle, the Phi...</td>\n",
       "      <td>10 pick)</td>\n",
       "      <td>65</td>\n",
       "      <td>28</td>\n",
       "    </tr>\n",
       "    <tr>\n",
       "      <th>KLSumSummarizer</th>\n",
       "      <td>They are defined by the fact that, over the pa...</td>\n",
       "      <td>Jets coach Adam Gase has spoken highly of back...</td>\n",
       "      <td>6</td>\n",
       "      <td>First round of the 2016 draft (21st overall)Ac...</td>\n",
       "      <td>Top draft assets: One first-round pick (15); o...</td>\n",
       "      <td>71</td>\n",
       "      <td>Top draft needs: TE, WR, DT, EDGE, QB</td>\n",
       "      <td>4</td>\n",
       "      <td>First round of the 2016 draft (21st overall)Ac...</td>\n",
       "      <td>On the call, Cowboys executive vice president ...</td>\n",
       "      <td>...</td>\n",
       "      <td>Top draft assets: One first-round pick (15); o...</td>\n",
       "      <td>94</td>\n",
       "      <td>General manager Dave Gettleman came to the New...</td>\n",
       "      <td>PHILADELPHIA -- Eagles quarterback Carson Went...</td>\n",
       "      <td>Top draft needs: TE, WR, DT, EDGE, QB</td>\n",
       "      <td>They are defined by the fact that, over the pa...</td>\n",
       "      <td>15</td>\n",
       "      <td>First round of the 2016 draft (21st overall)Ac...</td>\n",
       "      <td>Top draft assets: One first-round pick (15); o...</td>\n",
       "      <td>\"So, when you look ahead over the next 13 mont...</td>\n",
       "    </tr>\n",
       "    <tr>\n",
       "      <th>base_url</th>\n",
       "      <td>http://www.espn.com/nfl</td>\n",
       "      <td>http://www.espn.com/nfl</td>\n",
       "      <td>http://espn.com/blog</td>\n",
       "      <td>http://www.espn.com/nfl</td>\n",
       "      <td>http://www.espn.com/nfl</td>\n",
       "      <td>http://espn.com/blog</td>\n",
       "      <td>http://insider.espn.com/nfl</td>\n",
       "      <td>http://www.espn.com/nfl</td>\n",
       "      <td>http://www.espn.com/nfl</td>\n",
       "      <td>http://espn.com/blog</td>\n",
       "      <td>...</td>\n",
       "      <td>http://www.espn.com/nfl</td>\n",
       "      <td>http://www.espn.com/nfl</td>\n",
       "      <td>http://espn.com/blog</td>\n",
       "      <td>http://www.espn.com/nfl</td>\n",
       "      <td>http://insider.espn.com/nfl</td>\n",
       "      <td>http://www.espn.com/nfl</td>\n",
       "      <td>http://espn.com/blog</td>\n",
       "      <td>http://www.espn.com/nfl</td>\n",
       "      <td>http://www.espn.com/nfl</td>\n",
       "      <td>http://espn.com/blog</td>\n",
       "    </tr>\n",
       "    <tr>\n",
       "      <th>LSAFuzzy</th>\n",
       "      <td>38</td>\n",
       "      <td>9</td>\n",
       "      <td>2</td>\n",
       "      <td>145</td>\n",
       "      <td>55</td>\n",
       "      <td>87</td>\n",
       "      <td>6</td>\n",
       "      <td>12</td>\n",
       "      <td>145</td>\n",
       "      <td>0</td>\n",
       "      <td>...</td>\n",
       "      <td>55</td>\n",
       "      <td>140</td>\n",
       "      <td>23</td>\n",
       "      <td>1</td>\n",
       "      <td>6</td>\n",
       "      <td>38</td>\n",
       "      <td>15</td>\n",
       "      <td>145</td>\n",
       "      <td>55</td>\n",
       "      <td>0</td>\n",
       "    </tr>\n",
       "    <tr>\n",
       "      <th>LexRankFuzzy</th>\n",
       "      <td>22</td>\n",
       "      <td>12</td>\n",
       "      <td>31</td>\n",
       "      <td>65</td>\n",
       "      <td>30</td>\n",
       "      <td>71</td>\n",
       "      <td>5</td>\n",
       "      <td>4</td>\n",
       "      <td>65</td>\n",
       "      <td>33</td>\n",
       "      <td>...</td>\n",
       "      <td>30</td>\n",
       "      <td>190</td>\n",
       "      <td>51</td>\n",
       "      <td>23</td>\n",
       "      <td>5</td>\n",
       "      <td>22</td>\n",
       "      <td>0</td>\n",
       "      <td>65</td>\n",
       "      <td>30</td>\n",
       "      <td>38</td>\n",
       "    </tr>\n",
       "    <tr>\n",
       "      <th>TextRankFuzzy</th>\n",
       "      <td>27</td>\n",
       "      <td>2</td>\n",
       "      <td>31</td>\n",
       "      <td>53</td>\n",
       "      <td>29</td>\n",
       "      <td>71</td>\n",
       "      <td>14</td>\n",
       "      <td>4</td>\n",
       "      <td>53</td>\n",
       "      <td>2</td>\n",
       "      <td>...</td>\n",
       "      <td>29</td>\n",
       "      <td>172</td>\n",
       "      <td>0</td>\n",
       "      <td>18</td>\n",
       "      <td>14</td>\n",
       "      <td>27</td>\n",
       "      <td>2</td>\n",
       "      <td>53</td>\n",
       "      <td>29</td>\n",
       "      <td>38</td>\n",
       "    </tr>\n",
       "    <tr>\n",
       "      <th>SumBasicFuzzy</th>\n",
       "      <td>22</td>\n",
       "      <td>13</td>\n",
       "      <td>27</td>\n",
       "      <td>65</td>\n",
       "      <td>65</td>\n",
       "      <td>42</td>\n",
       "      <td>0</td>\n",
       "      <td>3</td>\n",
       "      <td>65</td>\n",
       "      <td>14</td>\n",
       "      <td>...</td>\n",
       "      <td>65</td>\n",
       "      <td>40</td>\n",
       "      <td>39</td>\n",
       "      <td>17</td>\n",
       "      <td>0</td>\n",
       "      <td>22</td>\n",
       "      <td>1</td>\n",
       "      <td>65</td>\n",
       "      <td>65</td>\n",
       "      <td>28</td>\n",
       "    </tr>\n",
       "    <tr>\n",
       "      <th>KLSumFuzzy</th>\n",
       "      <td>20</td>\n",
       "      <td>9</td>\n",
       "      <td>6</td>\n",
       "      <td>5</td>\n",
       "      <td>73</td>\n",
       "      <td>71</td>\n",
       "      <td>14</td>\n",
       "      <td>4</td>\n",
       "      <td>5</td>\n",
       "      <td>2</td>\n",
       "      <td>...</td>\n",
       "      <td>73</td>\n",
       "      <td>94</td>\n",
       "      <td>1</td>\n",
       "      <td>1</td>\n",
       "      <td>14</td>\n",
       "      <td>20</td>\n",
       "      <td>15</td>\n",
       "      <td>5</td>\n",
       "      <td>73</td>\n",
       "      <td>38</td>\n",
       "    </tr>\n",
       "  </tbody>\n",
       "</table>\n",
       "<p>27 rows × 30 columns</p>\n",
       "</div>"
      ],
      "text/plain": [
       "                                                                     40  \\\n",
       "author                                                    Howard Bryant   \n",
       "class                                                        story-link   \n",
       "data-id                                                        26440941   \n",
       "sport                                                               nfl   \n",
       "teamname                                                  new-york-jets   \n",
       "timestamp                                                            4d   \n",
       "url                   http://www.espn.com/nfl/story/_/id/26440941/st...   \n",
       "summary               Max Kellerman tries to make sense of the Twitt...   \n",
       "headline              What's behind the Steelers' breakup of Ben Roe...   \n",
       "rawText               Max Kellerman tries to make sense of the Twitt...   \n",
       "text                  [Max Kellerman tries to make sense of the Twit...   \n",
       "cleanText             [max kellerman try sense twitter beef antonio ...   \n",
       "unnormal_cosine                                                      27   \n",
       "normal_cosine                                                        27   \n",
       "normal_euclid                                                        20   \n",
       "new_centroid_compare                                                 20   \n",
       "LSASummarizer                                                        38   \n",
       "LexRankSummarizer                                                    22   \n",
       "TextRankSummarizer                                                   27   \n",
       "SumBasicSummarizer                                                   22   \n",
       "KLSumSummarizer       They are defined by the fact that, over the pa...   \n",
       "base_url                                        http://www.espn.com/nfl   \n",
       "LSAFuzzy                                                             38   \n",
       "LexRankFuzzy                                                         22   \n",
       "TextRankFuzzy                                                        27   \n",
       "SumBasicFuzzy                                                        22   \n",
       "KLSumFuzzy                                                           20   \n",
       "\n",
       "                                                                     41  \\\n",
       "author                                                      Rich Cimini   \n",
       "class                                                        story-link   \n",
       "data-id                                                        26500585   \n",
       "sport                                                               nfl   \n",
       "teamname                                                  new-york-jets   \n",
       "timestamp                                                            4d   \n",
       "url                   http://www.espn.com/nfl/story/_/id/26500585/je...   \n",
       "summary               The New York Jets added a veteran backup behin...   \n",
       "headline                       Jets bring on Montgomery to back up Bell   \n",
       "rawText               The New York Jets added a veteran backup behin...   \n",
       "text                  [The New York Jets added a veteran backup behi...   \n",
       "cleanText             [new york jets add veteran backup le'veon bell...   \n",
       "unnormal_cosine                                                      18   \n",
       "normal_cosine                                                         4   \n",
       "normal_euclid                                                         9   \n",
       "new_centroid_compare                                                 10   \n",
       "LSASummarizer         Jets coach Adam Gase has spoken highly of back...   \n",
       "LexRankSummarizer                                                    12   \n",
       "TextRankSummarizer                                                    2   \n",
       "SumBasicSummarizer                                                   13   \n",
       "KLSumSummarizer       Jets coach Adam Gase has spoken highly of back...   \n",
       "base_url                                        http://www.espn.com/nfl   \n",
       "LSAFuzzy                                                              9   \n",
       "LexRankFuzzy                                                         12   \n",
       "TextRankFuzzy                                                         2   \n",
       "SumBasicFuzzy                                                        13   \n",
       "KLSumFuzzy                                                            9   \n",
       "\n",
       "                                                                     42  \\\n",
       "author                                                      Rich Cimini   \n",
       "class                                                        story-link   \n",
       "data-id                                             new-york-jets-79578   \n",
       "sport                                                               nfl   \n",
       "teamname                                                  new-york-jets   \n",
       "timestamp                                                            5d   \n",
       "url                   http://espn.com/blog/new-york-jets/post/_/id/7...   \n",
       "summary               By words and actions (and non-actions), the Ne...   \n",
       "headline              New York Jets want to play 'Let's Make a Deal,...   \n",
       "rawText               By words and actions (and non-actions), the Ne...   \n",
       "text                  [By words and actions (and non-actions), the N...   \n",
       "cleanText             [word action non action new york jet advertise...   \n",
       "unnormal_cosine                                                      11   \n",
       "normal_cosine                                                         6   \n",
       "normal_euclid                                                        11   \n",
       "new_centroid_compare                                                 11   \n",
       "LSASummarizer                                                         2   \n",
       "LexRankSummarizer                                                    31   \n",
       "TextRankSummarizer                                                   31   \n",
       "SumBasicSummarizer                                                   27   \n",
       "KLSumSummarizer                                                       6   \n",
       "base_url                                           http://espn.com/blog   \n",
       "LSAFuzzy                                                              2   \n",
       "LexRankFuzzy                                                         31   \n",
       "TextRankFuzzy                                                        31   \n",
       "SumBasicFuzzy                                                        27   \n",
       "KLSumFuzzy                                                            6   \n",
       "\n",
       "                                                                     43  \\\n",
       "author                                                         ESPN.com   \n",
       "class                                                        story-link   \n",
       "data-id                                                        26473482   \n",
       "sport                                                               nfl   \n",
       "teamname                                                  new-york-jets   \n",
       "timestamp                                                            6d   \n",
       "url                   http://www.espn.com/nfl/draft2019/story/_/id/2...   \n",
       "summary               The NFL draft annually brings back memories, a...   \n",
       "headline              NFL draft do-overs: Let's re-pick ... and fix ...   \n",
       "rawText               The NFL draft annually brings back memories, a...   \n",
       "text                  [The NFL draft annually brings back memories, ...   \n",
       "cleanText             [nfl draft annually bring memory memory exactl...   \n",
       "unnormal_cosine                                                     136   \n",
       "normal_cosine                                                       136   \n",
       "normal_euclid                                                       196   \n",
       "new_centroid_compare                                                196   \n",
       "LSASummarizer         Sure, just about every team in the NFL would l...   \n",
       "LexRankSummarizer                                              10 pick)   \n",
       "TextRankSummarizer                                                   53   \n",
       "SumBasicSummarizer                                             10 pick)   \n",
       "KLSumSummarizer       First round of the 2016 draft (21st overall)Ac...   \n",
       "base_url                                        http://www.espn.com/nfl   \n",
       "LSAFuzzy                                                            145   \n",
       "LexRankFuzzy                                                         65   \n",
       "TextRankFuzzy                                                        53   \n",
       "SumBasicFuzzy                                                        65   \n",
       "KLSumFuzzy                                                            5   \n",
       "\n",
       "                                                                     44  \\\n",
       "author                                                     Dan Graziano   \n",
       "class                                                        story-link   \n",
       "data-id                                                        26472024   \n",
       "sport                                                               nfl   \n",
       "teamname                                                  new-york-jets   \n",
       "timestamp                                                            7d   \n",
       "url                   http://www.espn.com/nfl/draft2019/story/_/id/2...   \n",
       "summary               Draft Academy previews the lead-up to the NFL ...   \n",
       "headline              Ranking teams most likely to trade up -- and d...   \n",
       "rawText               Draft Academy previews the lead-up to the NFL ...   \n",
       "text                  [Draft Academy previews the lead-up to the NFL...   \n",
       "cleanText             [draft academy preview lead nfl draft nfl pros...   \n",
       "unnormal_cosine                                                      18   \n",
       "normal_cosine                                                        18   \n",
       "normal_euclid                                                        31   \n",
       "new_centroid_compare                                                 31   \n",
       "LSASummarizer         Draft Academy documents the journey of six pro...   \n",
       "LexRankSummarizer                                                    30   \n",
       "TextRankSummarizer                                                   29   \n",
       "SumBasicSummarizer                                                   65   \n",
       "KLSumSummarizer       Top draft assets: One first-round pick (15); o...   \n",
       "base_url                                        http://www.espn.com/nfl   \n",
       "LSAFuzzy                                                             55   \n",
       "LexRankFuzzy                                                         30   \n",
       "TextRankFuzzy                                                        29   \n",
       "SumBasicFuzzy                                                        65   \n",
       "KLSumFuzzy                                                           73   \n",
       "\n",
       "                                                                     45  \\\n",
       "author                                                      Rich Cimini   \n",
       "class                                                        story-link   \n",
       "data-id                                             new-york-jets-79539   \n",
       "sport                                                               nfl   \n",
       "teamname                                                  new-york-jets   \n",
       "timestamp                                                            9d   \n",
       "url                   http://espn.com/blog/new-york-jets/post/_/id/7...   \n",
       "summary               Instead of spending his days in a dark office,...   \n",
       "headline              Five challenges for Jets' Adam Gase as he atta...   \n",
       "rawText               Instead of spending his days in a dark office,...   \n",
       "text                  [Instead of spending his days in a dark office...   \n",
       "cleanText             [instead spend day dark office break hour hour...   \n",
       "unnormal_cosine                                                      71   \n",
       "normal_cosine                                                        42   \n",
       "normal_euclid                                                        29   \n",
       "new_centroid_compare                                                 29   \n",
       "LSASummarizer         Cultivate his rapport with Mike Maccagnan : Ga...   \n",
       "LexRankSummarizer                                                    71   \n",
       "TextRankSummarizer                                                   71   \n",
       "SumBasicSummarizer                                                   42   \n",
       "KLSumSummarizer                                                      71   \n",
       "base_url                                           http://espn.com/blog   \n",
       "LSAFuzzy                                                             87   \n",
       "LexRankFuzzy                                                         71   \n",
       "TextRankFuzzy                                                        71   \n",
       "SumBasicFuzzy                                                        42   \n",
       "KLSumFuzzy                                                           71   \n",
       "\n",
       "                                                                     46  \\\n",
       "author                                                      Todd McShay   \n",
       "class                                                        story-link   \n",
       "data-id                                                        26489910   \n",
       "sport                                                               nfl   \n",
       "teamname                                                 dallas-cowboys   \n",
       "timestamp                                                            4d   \n",
       "url                   http://insider.espn.com/nfl/draft2019/insider/...   \n",
       "summary               Todd McShay hears that the Giants might not be...   \n",
       "headline              Todd McShay's top five 2019 NFL draft needs fo...   \n",
       "rawText               Todd McShay hears that the Giants might not be...   \n",
       "text                  [Todd McShay hears that the Giants might not b...   \n",
       "cleanText             [todd mcshay hear giants love dwayne haskins p...   \n",
       "unnormal_cosine                                                       9   \n",
       "normal_cosine                                                         9   \n",
       "normal_euclid                                                         9   \n",
       "new_centroid_compare                                                  9   \n",
       "LSASummarizer                                                         6   \n",
       "LexRankSummarizer     The Bills have their quarterback in Josh Allen...   \n",
       "TextRankSummarizer                Top draft needs: TE, WR, DT, EDGE, QB   \n",
       "SumBasicSummarizer                  Top draft needs: QB, G, OT, C, EDGE   \n",
       "KLSumSummarizer                   Top draft needs: TE, WR, DT, EDGE, QB   \n",
       "base_url                                    http://insider.espn.com/nfl   \n",
       "LSAFuzzy                                                              6   \n",
       "LexRankFuzzy                                                          5   \n",
       "TextRankFuzzy                                                        14   \n",
       "SumBasicFuzzy                                                         0   \n",
       "KLSumFuzzy                                                           14   \n",
       "\n",
       "                                                                     47  \\\n",
       "author                                                      Todd Archer   \n",
       "class                                                        story-link   \n",
       "data-id                                                        26499614   \n",
       "sport                                                               nfl   \n",
       "teamname                                                 dallas-cowboys   \n",
       "timestamp                                                            4d   \n",
       "url                   http://www.espn.com/nfl/story/_/id/26499614/da...   \n",
       "summary               FRISCO, Texas -- Add Dallas Cowboys right tack...   \n",
       "headline                 Source: Dallas OT Collins had shoulder surgery   \n",
       "rawText               FRISCO, Texas -- Add Dallas Cowboys right tack...   \n",
       "text                  [FRISCO, Texas -- Add Dallas Cowboys right tac...   \n",
       "cleanText             [frisco texas -- add dallas cowboys right tack...   \n",
       "unnormal_cosine                                                       5   \n",
       "normal_cosine                                                        13   \n",
       "normal_euclid                                                         5   \n",
       "new_centroid_compare                                                  5   \n",
       "LSASummarizer                                                        12   \n",
       "LexRankSummarizer                                                     4   \n",
       "TextRankSummarizer                                                    4   \n",
       "SumBasicSummarizer                                                    3   \n",
       "KLSumSummarizer                                                       4   \n",
       "base_url                                        http://www.espn.com/nfl   \n",
       "LSAFuzzy                                                             12   \n",
       "LexRankFuzzy                                                          4   \n",
       "TextRankFuzzy                                                         4   \n",
       "SumBasicFuzzy                                                         3   \n",
       "KLSumFuzzy                                                            4   \n",
       "\n",
       "                                                                     48  \\\n",
       "author                                                         ESPN.com   \n",
       "class                                                        story-link   \n",
       "data-id                                                        26473482   \n",
       "sport                                                               nfl   \n",
       "teamname                                                 dallas-cowboys   \n",
       "timestamp                                                            6d   \n",
       "url                   http://www.espn.com/nfl/draft2019/story/_/id/2...   \n",
       "summary               The NFL draft annually brings back memories, a...   \n",
       "headline              NFL draft do-overs: Let's re-pick ... and fix ...   \n",
       "rawText               The NFL draft annually brings back memories, a...   \n",
       "text                  [The NFL draft annually brings back memories, ...   \n",
       "cleanText             [nfl draft annually bring memory memory exactl...   \n",
       "unnormal_cosine                                                     136   \n",
       "normal_cosine                                                       136   \n",
       "normal_euclid                                                       196   \n",
       "new_centroid_compare                                                196   \n",
       "LSASummarizer         Sure, just about every team in the NFL would l...   \n",
       "LexRankSummarizer                                              10 pick)   \n",
       "TextRankSummarizer                                                   53   \n",
       "SumBasicSummarizer                                             10 pick)   \n",
       "KLSumSummarizer       First round of the 2016 draft (21st overall)Ac...   \n",
       "base_url                                        http://www.espn.com/nfl   \n",
       "LSAFuzzy                                                            145   \n",
       "LexRankFuzzy                                                         65   \n",
       "TextRankFuzzy                                                        53   \n",
       "SumBasicFuzzy                                                        65   \n",
       "KLSumFuzzy                                                            5   \n",
       "\n",
       "                                                                     49  \\\n",
       "author                                                      Todd Archer   \n",
       "class                                                        story-link   \n",
       "data-id                                          dallas-cowboys-4769083   \n",
       "sport                                                               nfl   \n",
       "teamname                                                 dallas-cowboys   \n",
       "timestamp                                                            6d   \n",
       "url                   http://espn.com/blog/dallas-cowboys/post/_/id/...   \n",
       "summary               FRISCO, Texas -- The breakthrough in contract ...   \n",
       "headline              Cowboys willing to bend in contracts if player...   \n",
       "rawText               FRISCO, Texas -- The breakthrough in contract ...   \n",
       "text                  [FRISCO, Texas -- The breakthrough in contract...   \n",
       "cleanText             [frisco texas -- breakthrough contract negotia...   \n",
       "unnormal_cosine                                                      40   \n",
       "normal_cosine                                                        14   \n",
       "normal_euclid                                                         2   \n",
       "new_centroid_compare                                                  2   \n",
       "LSASummarizer         FRISCO, Texas -- The breakthrough in contract ...   \n",
       "LexRankSummarizer                                                    33   \n",
       "TextRankSummarizer    On the call, Cowboys executive vice president ...   \n",
       "SumBasicSummarizer                                                   14   \n",
       "KLSumSummarizer       On the call, Cowboys executive vice president ...   \n",
       "base_url                                           http://espn.com/blog   \n",
       "LSAFuzzy                                                              0   \n",
       "LexRankFuzzy                                                         33   \n",
       "TextRankFuzzy                                                         2   \n",
       "SumBasicFuzzy                                                        14   \n",
       "KLSumFuzzy                                                            2   \n",
       "\n",
       "                                            ...                          \\\n",
       "author                                      ...                           \n",
       "class                                       ...                           \n",
       "data-id                                     ...                           \n",
       "sport                                       ...                           \n",
       "teamname                                    ...                           \n",
       "timestamp                                   ...                           \n",
       "url                                         ...                           \n",
       "summary                                     ...                           \n",
       "headline                                    ...                           \n",
       "rawText                                     ...                           \n",
       "text                                        ...                           \n",
       "cleanText                                   ...                           \n",
       "unnormal_cosine                             ...                           \n",
       "normal_cosine                               ...                           \n",
       "normal_euclid                               ...                           \n",
       "new_centroid_compare                        ...                           \n",
       "LSASummarizer                               ...                           \n",
       "LexRankSummarizer                           ...                           \n",
       "TextRankSummarizer                          ...                           \n",
       "SumBasicSummarizer                          ...                           \n",
       "KLSumSummarizer                             ...                           \n",
       "base_url                                    ...                           \n",
       "LSAFuzzy                                    ...                           \n",
       "LexRankFuzzy                                ...                           \n",
       "TextRankFuzzy                               ...                           \n",
       "SumBasicFuzzy                               ...                           \n",
       "KLSumFuzzy                                  ...                           \n",
       "\n",
       "                                                                     60  \\\n",
       "author                                                     Dan Graziano   \n",
       "class                                                        story-link   \n",
       "data-id                                                        26472024   \n",
       "sport                                                               nfl   \n",
       "teamname                                                new-york-giants   \n",
       "timestamp                                                            7d   \n",
       "url                   http://www.espn.com/nfl/draft2019/story/_/id/2...   \n",
       "summary               Draft Academy previews the lead-up to the NFL ...   \n",
       "headline              Ranking teams most likely to trade up -- and d...   \n",
       "rawText               Draft Academy previews the lead-up to the NFL ...   \n",
       "text                  [Draft Academy previews the lead-up to the NFL...   \n",
       "cleanText             [draft academy preview lead nfl draft nfl pros...   \n",
       "unnormal_cosine                                                      18   \n",
       "normal_cosine                                                        18   \n",
       "normal_euclid                                                        31   \n",
       "new_centroid_compare                                                 31   \n",
       "LSASummarizer         Draft Academy documents the journey of six pro...   \n",
       "LexRankSummarizer                                                    30   \n",
       "TextRankSummarizer                                                   29   \n",
       "SumBasicSummarizer                                                   65   \n",
       "KLSumSummarizer       Top draft assets: One first-round pick (15); o...   \n",
       "base_url                                        http://www.espn.com/nfl   \n",
       "LSAFuzzy                                                             55   \n",
       "LexRankFuzzy                                                         30   \n",
       "TextRankFuzzy                                                        29   \n",
       "SumBasicFuzzy                                                        65   \n",
       "KLSumFuzzy                                                           73   \n",
       "\n",
       "                                                                     61  \\\n",
       "author                                  Pat McManamon and Jordan Raanan   \n",
       "class                                                        story-link   \n",
       "data-id                                                        26432284   \n",
       "sport                                                               nfl   \n",
       "teamname                                                new-york-giants   \n",
       "timestamp                                                           12d   \n",
       "url                   http://www.espn.com/nfl/story/_/id/26432284/th...   \n",
       "summary               The Giants shocked the NFL world when they tra...   \n",
       "headline              'This can't be real': How Browns pulled off Od...   \n",
       "rawText               The Giants shocked the NFL world when they tra...   \n",
       "text                  [The Giants shocked the NFL world when they tr...   \n",
       "cleanText             [giants shock nfl world trade odell beckham jr...   \n",
       "unnormal_cosine                                                       0   \n",
       "normal_cosine                                                         0   \n",
       "normal_euclid                                                        81   \n",
       "new_centroid_compare                                                 81   \n",
       "LSASummarizer                                                       140   \n",
       "LexRankSummarizer                                                   190   \n",
       "TextRankSummarizer                                                  172   \n",
       "SumBasicSummarizer                                                   40   \n",
       "KLSumSummarizer                                                      94   \n",
       "base_url                                        http://www.espn.com/nfl   \n",
       "LSAFuzzy                                                            140   \n",
       "LexRankFuzzy                                                        190   \n",
       "TextRankFuzzy                                                       172   \n",
       "SumBasicFuzzy                                                        40   \n",
       "KLSumFuzzy                                                           94   \n",
       "\n",
       "                                                                     62  \\\n",
       "author                                                    Jordan Raanan   \n",
       "class                                                        story-link   \n",
       "data-id                                           new-york-giants-58812   \n",
       "sport                                                               nfl   \n",
       "teamname                                                new-york-giants   \n",
       "timestamp                                                           14d   \n",
       "url                   http://espn.com/blog/new-york-giants/post/_/id...   \n",
       "summary               Max Kellerman laughs off Giants GM Dave Gettle...   \n",
       "headline              Giants' no-nonsense approach has contributed t...   \n",
       "rawText               Max Kellerman laughs off Giants GM Dave Gettle...   \n",
       "text                  [Max Kellerman laughs off Giants GM Dave Gettl...   \n",
       "cleanText             [max kellerman laugh giants gm dave gettleman ...   \n",
       "unnormal_cosine                                                       9   \n",
       "normal_cosine                                                        39   \n",
       "normal_euclid                                                         9   \n",
       "new_centroid_compare                                                  9   \n",
       "LSASummarizer                                                        23   \n",
       "LexRankSummarizer     \"Unfortunately, some of the players move on an...   \n",
       "TextRankSummarizer    (1:47)Max Kellerman laughs off Giants GM Dave ...   \n",
       "SumBasicSummarizer                                                   39   \n",
       "KLSumSummarizer       General manager Dave Gettleman came to the New...   \n",
       "base_url                                           http://espn.com/blog   \n",
       "LSAFuzzy                                                             23   \n",
       "LexRankFuzzy                                                         51   \n",
       "TextRankFuzzy                                                         0   \n",
       "SumBasicFuzzy                                                        39   \n",
       "KLSumFuzzy                                                            1   \n",
       "\n",
       "                                                                     63  \\\n",
       "author                                                      Tim McManus   \n",
       "class                                                        story-link   \n",
       "data-id                                                        26531222   \n",
       "sport                                                               nfl   \n",
       "teamname                                            philadelphia-eagles   \n",
       "timestamp                                                            9h   \n",
       "url                   http://www.espn.com/nfl/story/_/id/26531222/ea...   \n",
       "summary               Carson Wentz updates the latest on his recover...   \n",
       "headline              Eagles' Wentz says stress fracture is still he...   \n",
       "rawText               Carson Wentz updates the latest on his recover...   \n",
       "text                  [Carson Wentz updates the latest on his recove...   \n",
       "cleanText             [carson wentz update late recovery stress frac...   \n",
       "unnormal_cosine                                                      18   \n",
       "normal_cosine                                                        18   \n",
       "normal_euclid                                                        20   \n",
       "new_centroid_compare                                                  3   \n",
       "LSASummarizer         PHILADELPHIA -- Eagles quarterback Carson Went...   \n",
       "LexRankSummarizer                                                    13   \n",
       "TextRankSummarizer                                                   18   \n",
       "SumBasicSummarizer     \"Right now we're kind of taking it week by week.   \n",
       "KLSumSummarizer       PHILADELPHIA -- Eagles quarterback Carson Went...   \n",
       "base_url                                        http://www.espn.com/nfl   \n",
       "LSAFuzzy                                                              1   \n",
       "LexRankFuzzy                                                         23   \n",
       "TextRankFuzzy                                                        18   \n",
       "SumBasicFuzzy                                                        17   \n",
       "KLSumFuzzy                                                            1   \n",
       "\n",
       "                                                                     64  \\\n",
       "author                                                      Todd McShay   \n",
       "class                                                        story-link   \n",
       "data-id                                                        26489910   \n",
       "sport                                                               nfl   \n",
       "teamname                                            philadelphia-eagles   \n",
       "timestamp                                                            4d   \n",
       "url                   http://insider.espn.com/nfl/draft2019/insider/...   \n",
       "summary               Todd McShay hears that the Giants might not be...   \n",
       "headline              Todd McShay's top five 2019 NFL draft needs fo...   \n",
       "rawText               Todd McShay hears that the Giants might not be...   \n",
       "text                  [Todd McShay hears that the Giants might not b...   \n",
       "cleanText             [todd mcshay hear giants love dwayne haskins p...   \n",
       "unnormal_cosine                                                       9   \n",
       "normal_cosine                                                         9   \n",
       "normal_euclid                                                         9   \n",
       "new_centroid_compare                                                  9   \n",
       "LSASummarizer                                                         6   \n",
       "LexRankSummarizer     The Bills have their quarterback in Josh Allen...   \n",
       "TextRankSummarizer                Top draft needs: TE, WR, DT, EDGE, QB   \n",
       "SumBasicSummarizer                  Top draft needs: QB, G, OT, C, EDGE   \n",
       "KLSumSummarizer                   Top draft needs: TE, WR, DT, EDGE, QB   \n",
       "base_url                                    http://insider.espn.com/nfl   \n",
       "LSAFuzzy                                                              6   \n",
       "LexRankFuzzy                                                          5   \n",
       "TextRankFuzzy                                                        14   \n",
       "SumBasicFuzzy                                                         0   \n",
       "KLSumFuzzy                                                           14   \n",
       "\n",
       "                                                                     65  \\\n",
       "author                                                    Howard Bryant   \n",
       "class                                                        story-link   \n",
       "data-id                                                        26440941   \n",
       "sport                                                               nfl   \n",
       "teamname                                            philadelphia-eagles   \n",
       "timestamp                                                            4d   \n",
       "url                   http://www.espn.com/nfl/story/_/id/26440941/st...   \n",
       "summary               Max Kellerman tries to make sense of the Twitt...   \n",
       "headline              What's behind the Steelers' breakup of Ben Roe...   \n",
       "rawText               Max Kellerman tries to make sense of the Twitt...   \n",
       "text                  [Max Kellerman tries to make sense of the Twit...   \n",
       "cleanText             [max kellerman try sense twitter beef antonio ...   \n",
       "unnormal_cosine                                                      27   \n",
       "normal_cosine                                                        27   \n",
       "normal_euclid                                                        20   \n",
       "new_centroid_compare                                                 20   \n",
       "LSASummarizer                                                        38   \n",
       "LexRankSummarizer                                                    22   \n",
       "TextRankSummarizer                                                   27   \n",
       "SumBasicSummarizer                                                   22   \n",
       "KLSumSummarizer       They are defined by the fact that, over the pa...   \n",
       "base_url                                        http://www.espn.com/nfl   \n",
       "LSAFuzzy                                                             38   \n",
       "LexRankFuzzy                                                         22   \n",
       "TextRankFuzzy                                                        27   \n",
       "SumBasicFuzzy                                                        22   \n",
       "KLSumFuzzy                                                           20   \n",
       "\n",
       "                                                                     66  \\\n",
       "author                                                      Tim McManus   \n",
       "class                                                        story-link   \n",
       "data-id                                       philadelphia-eagles-27379   \n",
       "sport                                                               nfl   \n",
       "teamname                                            philadelphia-eagles   \n",
       "timestamp                                                            5d   \n",
       "url                   http://espn.com/blog/philadelphia-eagles/post/...   \n",
       "summary               Check out some highlights from NFL draft prosp...   \n",
       "headline              Who will Eagles pick at No. 25? Past eight dra...   \n",
       "rawText               Check out some highlights from NFL draft prosp...   \n",
       "text                  [Check out some highlights from NFL draft pros...   \n",
       "cleanText             [check highlight nfl draft prospect clelin fer...   \n",
       "unnormal_cosine                                                      13   \n",
       "normal_cosine                                                        28   \n",
       "normal_euclid                                                        13   \n",
       "new_centroid_compare                                                 13   \n",
       "LSASummarizer                                                        15   \n",
       "LexRankSummarizer     Clelin Ferrell is ferocious (1:31)Check out so...   \n",
       "TextRankSummarizer    Their inward lean on sports science and analyt...   \n",
       "SumBasicSummarizer    PHILADELPHIA -- For all of the sizzle, the Phi...   \n",
       "KLSumSummarizer                                                      15   \n",
       "base_url                                           http://espn.com/blog   \n",
       "LSAFuzzy                                                             15   \n",
       "LexRankFuzzy                                                          0   \n",
       "TextRankFuzzy                                                         2   \n",
       "SumBasicFuzzy                                                         1   \n",
       "KLSumFuzzy                                                           15   \n",
       "\n",
       "                                                                     67  \\\n",
       "author                                                         ESPN.com   \n",
       "class                                                        story-link   \n",
       "data-id                                                        26473482   \n",
       "sport                                                               nfl   \n",
       "teamname                                            philadelphia-eagles   \n",
       "timestamp                                                            6d   \n",
       "url                   http://www.espn.com/nfl/draft2019/story/_/id/2...   \n",
       "summary               The NFL draft annually brings back memories, a...   \n",
       "headline              NFL draft do-overs: Let's re-pick ... and fix ...   \n",
       "rawText               The NFL draft annually brings back memories, a...   \n",
       "text                  [The NFL draft annually brings back memories, ...   \n",
       "cleanText             [nfl draft annually bring memory memory exactl...   \n",
       "unnormal_cosine                                                     136   \n",
       "normal_cosine                                                       136   \n",
       "normal_euclid                                                       196   \n",
       "new_centroid_compare                                                196   \n",
       "LSASummarizer         Sure, just about every team in the NFL would l...   \n",
       "LexRankSummarizer                                              10 pick)   \n",
       "TextRankSummarizer                                                   53   \n",
       "SumBasicSummarizer                                             10 pick)   \n",
       "KLSumSummarizer       First round of the 2016 draft (21st overall)Ac...   \n",
       "base_url                                        http://www.espn.com/nfl   \n",
       "LSAFuzzy                                                            145   \n",
       "LexRankFuzzy                                                         65   \n",
       "TextRankFuzzy                                                        53   \n",
       "SumBasicFuzzy                                                        65   \n",
       "KLSumFuzzy                                                            5   \n",
       "\n",
       "                                                                     68  \\\n",
       "author                                                     Dan Graziano   \n",
       "class                                                        story-link   \n",
       "data-id                                                        26472024   \n",
       "sport                                                               nfl   \n",
       "teamname                                            philadelphia-eagles   \n",
       "timestamp                                                            7d   \n",
       "url                   http://www.espn.com/nfl/draft2019/story/_/id/2...   \n",
       "summary               Draft Academy previews the lead-up to the NFL ...   \n",
       "headline              Ranking teams most likely to trade up -- and d...   \n",
       "rawText               Draft Academy previews the lead-up to the NFL ...   \n",
       "text                  [Draft Academy previews the lead-up to the NFL...   \n",
       "cleanText             [draft academy preview lead nfl draft nfl pros...   \n",
       "unnormal_cosine                                                      18   \n",
       "normal_cosine                                                        18   \n",
       "normal_euclid                                                        31   \n",
       "new_centroid_compare                                                 31   \n",
       "LSASummarizer         Draft Academy documents the journey of six pro...   \n",
       "LexRankSummarizer                                                    30   \n",
       "TextRankSummarizer                                                   29   \n",
       "SumBasicSummarizer                                                   65   \n",
       "KLSumSummarizer       Top draft assets: One first-round pick (15); o...   \n",
       "base_url                                        http://www.espn.com/nfl   \n",
       "LSAFuzzy                                                             55   \n",
       "LexRankFuzzy                                                         30   \n",
       "TextRankFuzzy                                                        29   \n",
       "SumBasicFuzzy                                                        65   \n",
       "KLSumFuzzy                                                           73   \n",
       "\n",
       "                                                                     69  \n",
       "author                                                      Tim McManus  \n",
       "class                                                        story-link  \n",
       "data-id                                       philadelphia-eagles-27365  \n",
       "sport                                                               nfl  \n",
       "teamname                                            philadelphia-eagles  \n",
       "timestamp                                                            8d  \n",
       "url                   http://espn.com/blog/philadelphia-eagles/post/...  \n",
       "summary               PHILADELPHIA -- Eagles chairman and CEO Jeffre...  \n",
       "headline              Eagles finding bargains in over-30 bin, stockp...  \n",
       "rawText               PHILADELPHIA -- Eagles chairman and CEO Jeffre...  \n",
       "text                  [PHILADELPHIA -- Eagles chairman and CEO Jeffr...  \n",
       "cleanText             [philadelphia -- eagles chairman ceo jeffrey l...  \n",
       "unnormal_cosine                                                       7  \n",
       "normal_cosine                                                        28  \n",
       "normal_euclid                                                         7  \n",
       "new_centroid_compare                                                  7  \n",
       "LSASummarizer                                                         0  \n",
       "LexRankSummarizer     \"So, when you look ahead over the next 13 mont...  \n",
       "TextRankSummarizer    \"So, when you look ahead over the next 13 mont...  \n",
       "SumBasicSummarizer                                                   28  \n",
       "KLSumSummarizer       \"So, when you look ahead over the next 13 mont...  \n",
       "base_url                                           http://espn.com/blog  \n",
       "LSAFuzzy                                                              0  \n",
       "LexRankFuzzy                                                         38  \n",
       "TextRankFuzzy                                                        38  \n",
       "SumBasicFuzzy                                                        28  \n",
       "KLSumFuzzy                                                           38  \n",
       "\n",
       "[27 rows x 30 columns]"
      ]
     },
     "execution_count": 65,
     "metadata": {},
     "output_type": "execute_result"
    }
   ],
   "source": [
    "df[40:70].T"
   ]
  },
  {
   "cell_type": "markdown",
   "metadata": {},
   "source": [
    "----\n",
    "## Article 6 \n",
    "\n",
    "Clearly about Chris Ivory being released from the Bills."
   ]
  },
  {
   "cell_type": "code",
   "execution_count": 25,
   "metadata": {
    "collapsed": false
   },
   "outputs": [
    {
     "data": {
      "text/plain": [
       "\"The Buffalo Bills are planning to release running back Chris Ivory on Tuesday, a source told ESPN's Adam Schefter. Buffalo will save $2.1 million against its 2019 salary cap by releasing Ivory, whose role was unclear after the team signed veteran running back Frank Gore to a one-year deal earlier this month. The Bills entered Monday with three of the NFL's four oldest running backs under contract in Ivory, Gore and LeSean McCoy. Gore, 35, is expected to serve as the top backup behind McCoy, 30. Ivory played in 13 games last season, making one start. He averaged a career-low 3.3 yards on 115 carries and rushed for one touchdown. Ivory has rushed for 5,237 yards and 29 touchdowns in nine NFL seasons for the Saints (2010-12), Jets (2013-15), Jaguars (2016-17) and Bills (2018). To help make this website better, to improve and personalize your experience and for advertising purposes, are you happy to accept cookies and other technologies?\""
      ]
     },
     "execution_count": 25,
     "metadata": {},
     "output_type": "execute_result"
    }
   ],
   "source": [
    "df.rawText[6]"
   ]
  },
  {
   "cell_type": "code",
   "execution_count": 80,
   "metadata": {
    "collapsed": false
   },
   "outputs": [
    {
     "data": {
      "text/plain": [
       "'Source: Bills plan to release RB Ivory'"
      ]
     },
     "execution_count": 80,
     "metadata": {},
     "output_type": "execute_result"
    }
   ],
   "source": [
    "df.headline[6] #summary backs it up"
   ]
  },
  {
   "cell_type": "code",
   "execution_count": 29,
   "metadata": {
    "collapsed": false
   },
   "outputs": [
    {
     "data": {
      "text/plain": [
       "'Buffalo will save $2.1 million against its 2019 salary cap by releasing Ivory, whose role was unclear after the team signed veteran running back Frank Gore to a one-year deal earlier this month.'"
      ]
     },
     "execution_count": 29,
     "metadata": {},
     "output_type": "execute_result"
    }
   ],
   "source": [
    "df.text[6][df.unnormal_cosine[6]] #this is the second best sentence to describe it"
   ]
  },
  {
   "cell_type": "code",
   "execution_count": 30,
   "metadata": {
    "collapsed": false
   },
   "outputs": [
    {
     "data": {
      "text/plain": [
       "\"The Bills entered Monday with three of the NFL's four oldest running backs under contract in Ivory, Gore and LeSean McCoy.\""
      ]
     },
     "execution_count": 30,
     "metadata": {},
     "output_type": "execute_result"
    }
   ],
   "source": [
    "df.text[6][df.normal_cosine[6]] #weaker sentence"
   ]
  },
  {
   "cell_type": "code",
   "execution_count": 31,
   "metadata": {
    "collapsed": false
   },
   "outputs": [
    {
     "data": {
      "text/plain": [
       "'Buffalo will save $2.1 million against its 2019 salary cap by releasing Ivory, whose role was unclear after the team signed veteran running back Frank Gore to a one-year deal earlier this month.'"
      ]
     },
     "execution_count": 31,
     "metadata": {},
     "output_type": "execute_result"
    }
   ],
   "source": [
    "df.text[6][df.normal_euclid[6]] #still second best"
   ]
  },
  {
   "cell_type": "code",
   "execution_count": 32,
   "metadata": {
    "collapsed": false
   },
   "outputs": [
    {
     "data": {
      "text/plain": [
       "'Ivory has rushed for 5,237 yards and 29 touchdowns in nine NFL seasons for the Saints (2010-12), Jets (2013-15), Jaguars (2016-17) and Bills (2018).'"
      ]
     },
     "execution_count": 32,
     "metadata": {},
     "output_type": "execute_result"
    }
   ],
   "source": [
    "df.text[6][df.new_centroid_compare[6]] #weakest sentence by far"
   ]
  },
  {
   "cell_type": "code",
   "execution_count": 34,
   "metadata": {
    "collapsed": false
   },
   "outputs": [
    {
     "name": "stdout",
     "output_type": "stream",
     "text": [
      "Buffalo will save $2.1 million against its 2019 salary cap by releasing Ivory, whose role was unclear after the team signed veteran running back Frank Gore to a one-year deal earlier this month.\n",
      "The Bills entered Monday with three of the NFL's four oldest running backs under contract in Ivory, Gore and LeSean McCoy.\n",
      "Ivory has rushed for 5,237 yards and 29 touchdowns in nine NFL seasons for the Saints (2010-12), Jets (2013-15), Jaguars (2016-17) and Bills (2018).\n",
      "The Bills entered Monday with three of the NFL's four oldest running backs under contract in Ivory, Gore and LeSean McCoy.\n",
      "The Bills entered Monday with three of the NFL's four oldest running backs under contract in Ivory, Gore and LeSean McCoy.\n"
     ]
    }
   ],
   "source": [
    "print(df.text[6][df.LSAFuzzy[6]]) #strongest one\n",
    "print(df.text[6][df.LexRankFuzzy[6]])\n",
    "print(df.text[6][df.TextRankFuzzy[6]])\n",
    "print(df.text[6][df.SumBasicFuzzy[6]])\n",
    "print(df.text[6][df.KLSumFuzzy[6]])"
   ]
  },
  {
   "cell_type": "markdown",
   "metadata": {},
   "source": [
    "### Results\n",
    "\n",
    "In article 6 about Chris Ivory's release, the summary (sentence 0) should be the winning sentence, but it never shows up. However, our **unnormal cosine**, **normal euclidean**, and Sumy's **LSA** approach found the \"best\" sentence compared to the other methods."
   ]
  },
  {
   "cell_type": "markdown",
   "metadata": {},
   "source": [
    "---------\n",
    "## Article 53\n",
    "About the Cowboys' recent resigning of DeMarcus Lawrence."
   ]
  },
  {
   "cell_type": "code",
   "execution_count": 36,
   "metadata": {
    "collapsed": false
   },
   "outputs": [
    {
     "data": {
      "text/plain": [
       "'FRISCO, Texas -- The Dallas Cowboys needed to sign DeMarcus Lawrence. They needed Lawrence because as they found out after releasing DeMarcus Ware after the 2014 season, \"war daddies,\" as Cowboys owner Jerry Jones affectionately calls pass-rushers, do not grow on trees. And so they did, agreeing to a five year, $105 million deal with $65 million guaranteed, according to a source. The Cowboys traded up in the second round with an NFC East rival, the Washington Redskins, to take Lawrence with the 34th overall pick in 2014. The move did not pay immediate dividends -- Lawrence did not have a regular-season sack as a rookie, but he led the team in sacks in 2015, struggled with a back injury that required two surgeries in 2016, and recorded a combined 25 sacks in 2017 and \\'18. Only Aaron Donald (31.5), Chandler Jones (30) and Ryan Kerrigan (26) had more than Lawrence in that span. The Cowboys were not going to find Lawrence\\'s replacement in the draft, even if they had a first-round pick this year. Rookie pass-rushers almost always need time to develop and the Cowboys are not in a position to wait. They needed Lawrence because of the message it sent to the locker room. The Cowboys boast that their goal is to draft and develop players before signing them to lucrative contract extensions. The list is impressive: Terence Newman, Jason Witten, Bradie James, Tony Romo, Ware, Marion Barber, Jay Ratliff, Doug Free, Orlando Scandrick, Dez Bryant, Sean Lee, Tyron Smith, Tyrone Crawford, Travis Frederick, Terrance Williams and Zack Martin. Not all of the deals worked out perfectly. Not every decision to let other players walk was correct either. The Cowboys do not want to play in the deep end of the free-agent pool. The risk is too great. They want to know what they are buying, and with a player\\'s track record they can make better assumptions. It\\'s more than that. Lawrence had two surgeries in 2016. The first back surgery did not correct a disk issue. He could have shut it down that year but opted to keep playing even though it was obvious he was not the same player. He sat the final three regular-season games to be ready for the playoffs that year. What message would the Cowboys have sent to the rest of the locker room if they let Lawrence walk or play another year on the franchise tag. Especially after proving 2017 was not a fluke with a second straight Pro Bowl appearance? Some would have pointed to the fact he played hurt and the Cowboys turned their back when it came time to reward him. Best of NFL Nation• Will Belichick coach into his 70s?\\r\\r\\r\\r\\r\\r\\r\\r\\n• Luck enjoys first healthy offseason since \\'15\\r\\r\\r\\r\\r\\r\\r\\r\\n• Steven Nelson: From food stamps to making $25M with Steelers\\r\\r\\r\\r\\r\\r\\r\\r\\n• Inside Cam Jordan\\'s offseason adventures\\r\\r\\r\\r\\r\\r\\r\\r\\n• NFL draft: Mock drafts, prospects and more\\r\\r\\r\\r\\r\\r\\r\\r\\n • Will Belichick coach into his 70s?\\r\\r\\r\\r\\r\\r\\r\\r\\n• Luck enjoys first healthy offseason since \\'15\\r\\r\\r\\r\\r\\r\\r\\r\\n• Steven Nelson: From food stamps to making $25M with Steelers\\r\\r\\r\\r\\r\\r\\r\\r\\n• Inside Cam Jordan\\'s offseason adventures\\r\\r\\r\\r\\r\\r\\r\\r\\n• NFL draft: Mock drafts, prospects and more Mostly, however, the Cowboys needed Lawrence because of what Jones yearns for most: another Super Bowl. The drought is entering its 24th year. There has been a generation of fans who don\\'t know what it feels like to see the Cowboys win a Lombardi Trophy. All they know is the team\\'s long-ago-championship glory and a glitzy, $2 billion stadium. The Cowboys would not have been a better team without Lawrence. Without the extension, no one exactly knows when he would have had shoulder surgery or reported to play for a game. He wasn\\'t showing up for the offseason program or training camp. Maybe he would have reported Week 1, but what kind of shape would he have been in? When you look at the additions the Cowboys have made in the offseason, individually, they do not move the needle. Bringing back Witten, signing Randall Cobb and trading for Robert Quinn, they added pieces to the collective. They mean much more because Lawrence has a long-term deal. The Cowboys needed Lawrence for one simple reason: He makes them a Super Bowl contender. To help make this website better, to improve and personalize your experience and for advertising purposes, are you happy to accept cookies and other technologies?'"
      ]
     },
     "execution_count": 36,
     "metadata": {},
     "output_type": "execute_result"
    }
   ],
   "source": [
    "df.rawText[53]"
   ]
  },
  {
   "cell_type": "code",
   "execution_count": 38,
   "metadata": {
    "collapsed": false
   },
   "outputs": [
    {
     "data": {
      "text/plain": [
       "'FRISCO, Texas -- The Dallas Cowboys needed to sign DeMarcus Lawrence.'"
      ]
     },
     "execution_count": 38,
     "metadata": {},
     "output_type": "execute_result"
    }
   ],
   "source": [
    "df.summary[53] #summary backs it up"
   ]
  },
  {
   "cell_type": "code",
   "execution_count": 39,
   "metadata": {
    "collapsed": false
   },
   "outputs": [
    {
     "data": {
      "text/plain": [
       "'Re-signing DeMarcus Lawrence makes Cowboys a Super Bowl contender'"
      ]
     },
     "execution_count": 39,
     "metadata": {},
     "output_type": "execute_result"
    }
   ],
   "source": [
    "df.headline[53]"
   ]
  },
  {
   "cell_type": "code",
   "execution_count": 40,
   "metadata": {
    "collapsed": false
   },
   "outputs": [
    {
     "data": {
      "text/plain": [
       "\"\\r\\r\\r\\r\\r\\r\\r\\r\\n• Luck enjoys first healthy offseason since '15\\r\\r\\r\\r\\r\\r\\r\\r\\n• Steven Nelson: From food stamps to making $25M with Steelers\\r\\r\\r\\r\\r\\r\\r\\r\\n• Inside Cam Jordan's offseason adventures\\r\\r\\r\\r\\r\\r\\r\\r\\n• NFL draft: Mock drafts, prospects and more Mostly, however, the Cowboys needed Lawrence because of what Jones yearns for most: another Super Bowl.\""
      ]
     },
     "execution_count": 40,
     "metadata": {},
     "output_type": "execute_result"
    }
   ],
   "source": [
    "df.text[53][df.unnormal_cosine[53]] #wrong"
   ]
  },
  {
   "cell_type": "code",
   "execution_count": 41,
   "metadata": {
    "collapsed": false
   },
   "outputs": [
    {
     "data": {
      "text/plain": [
       "'The Cowboys would not have been a better team without Lawrence.'"
      ]
     },
     "execution_count": 41,
     "metadata": {},
     "output_type": "execute_result"
    }
   ],
   "source": [
    "df.text[53][df.normal_cosine[53]] #STRONG sentence"
   ]
  },
  {
   "cell_type": "code",
   "execution_count": 43,
   "metadata": {
    "collapsed": false
   },
   "outputs": [
    {
     "data": {
      "text/plain": [
       "\"It's more than that.\""
      ]
     },
     "execution_count": 43,
     "metadata": {},
     "output_type": "execute_result"
    }
   ],
   "source": [
    "df.text[53][df.normal_euclid[53]] #wrong"
   ]
  },
  {
   "cell_type": "code",
   "execution_count": 44,
   "metadata": {
    "collapsed": false
   },
   "outputs": [
    {
     "data": {
      "text/plain": [
       "\"It's more than that.\""
      ]
     },
     "execution_count": 44,
     "metadata": {},
     "output_type": "execute_result"
    }
   ],
   "source": [
    "df.text[53][df.new_centroid_compare[53]] #wrong"
   ]
  },
  {
   "cell_type": "code",
   "execution_count": 46,
   "metadata": {
    "collapsed": false
   },
   "outputs": [
    {
     "name": "stdout",
     "output_type": "stream",
     "text": [
      "They needed Lawrence because as they found out after releasing DeMarcus Ware after the 2014 season, \"war daddies,\" as Cowboys owner Jerry Jones affectionately calls pass-rushers, do not grow on trees.\n",
      "The Cowboys would not have been a better team without Lawrence.\n",
      "What message would the Cowboys have sent to the rest of the locker room if they let Lawrence walk or play another year on the franchise tag.\n",
      "The Cowboys would not have been a better team without Lawrence.\n",
      "The list is impressive: Terence Newman, Jason Witten, Bradie James, Tony Romo, Ware, Marion Barber, Jay Ratliff, Doug Free, Orlando Scandrick, Dez Bryant, Sean Lee, Tyron Smith, Tyrone Crawford, Travis Frederick, Terrance Williams and Zack Martin.\n"
     ]
    }
   ],
   "source": [
    "print(df.text[53][df.LSAFuzzy[53]]) #strongest one\n",
    "print(df.text[53][df.LexRankFuzzy[53]]) #strong\n",
    "print(df.text[53][df.TextRankFuzzy[53]])\n",
    "print(df.text[53][df.SumBasicFuzzy[53]]) #strong\n",
    "print(df.text[53][df.KLSumFuzzy[53]]) #wrong"
   ]
  },
  {
   "cell_type": "markdown",
   "metadata": {},
   "source": [
    "\n",
    "### Results\n",
    "\n",
    "In article 53 about DeMarcus Lawrence's resigning, the summary is almost synonymous to many sentences in the text. The strongest summaries were found in our **normal cosine** algorithm and Sumy's **LexRank** and **SumBasic** approaches."
   ]
  },
  {
   "cell_type": "markdown",
   "metadata": {},
   "source": [
    "---\n",
    "## Article 341\n",
    "Focused on the Seahawks trading draft picks for the NFL draft"
   ]
  },
  {
   "cell_type": "code",
   "execution_count": 49,
   "metadata": {
    "collapsed": false
   },
   "outputs": [
    {
     "data": {
      "text/plain": [
       "\"Seahawks 2019 draft situation 'not cool,' so expect more dealing\""
      ]
     },
     "execution_count": 49,
     "metadata": {},
     "output_type": "execute_result"
    }
   ],
   "source": [
    "df.headline[341]"
   ]
  },
  {
   "cell_type": "code",
   "execution_count": 50,
   "metadata": {
    "collapsed": false
   },
   "outputs": [
    {
     "data": {
      "text/plain": [
       "'General manager John Schneider came up with a temporary solution for the anxiety he felt while looking over the Seattle Seahawks depleted 2019 NFL draft board.'"
      ]
     },
     "execution_count": 50,
     "metadata": {},
     "output_type": "execute_result"
    }
   ],
   "source": [
    "df.summary[341]"
   ]
  },
  {
   "cell_type": "code",
   "execution_count": 51,
   "metadata": {
    "collapsed": false
   },
   "outputs": [
    {
     "data": {
      "text/plain": [
       "\"2019 NFL DRAFTWhen: April 25-27\\r\\r\\r\\r\\r\\r\\r\\r\\nWhere: Nashville, Tennessee\\r\\r\\r\\r\\r\\r\\r\\r\\nHow to watch: ABC/ESPN/ESPN App• Complete draft order: Picks 1-254 »\\r\\r\\r\\r\\r\\r\\r\\r\\n• Needs for all 32 teams »  Draft guides »\\r\\r\\r\\r\\r\\r\\r\\r\\n• In-depth stories on the top prospects »\\r\\r\\r\\r\\r\\r\\r\\r\\n• Kiper's 'Grade: A' three-round mock »\\r\\r\\r\\r\\r\\r\\r\\r\\n• McShay's 'Grade: A' three-round mock »\\r\\r\\r\\r\\r\\r\\r\\r\\n• Two-round mock drafts: Kiper vs. McShay »\\r\\r\\r\\r\\r\\r\\r\\r\\n• More NFL draft coverage »\\r\\r\\r\\r\\r\\r\\r\\r\\n When: April 25-27\\r\\r\\r\\r\\r\\r\\r\\r\\nWhere: Nashville, Tennessee\\r\\r\\r\\r\\r\\r\\r\\r\\nHow to watch: ABC/ESPN/ESPN App • Complete draft order: Picks 1-254 »\\r\\r\\r\\r\\r\\r\\r\\r\\n• Needs for all 32 teams »  Draft guides »\\r\\r\\r\\r\\r\\r\\r\\r\\n• In-depth stories on the top prospects »\\r\\r\\r\\r\\r\\r\\r\\r\\n• Kiper's 'Grade: A' three-round mock »\\r\\r\\r\\r\\r\\r\\r\\r\\n• McShay's 'Grade: A' three-round mock »\\r\\r\\r\\r\\r\\r\\r\\r\\n• Two-round mock drafts: Kiper vs. McShay »\\r\\r\\r\\r\\r\\r\\r\\r\\n• More NFL draft coverage » Seattle's 86 selections over nine drafts under Schneider and Pete Carroll are second most in that span behind the San Francisco 49ers' 88.\""
      ]
     },
     "execution_count": 51,
     "metadata": {},
     "output_type": "execute_result"
    }
   ],
   "source": [
    "df.text[341][df.unnormal_cosine[341]] #wrong"
   ]
  },
  {
   "cell_type": "code",
   "execution_count": 52,
   "metadata": {
    "collapsed": false
   },
   "outputs": [
    {
     "data": {
      "text/plain": [
       "'All told, the Seahawks have moved down 13 times in pick-for-pick trades on draft day under Carroll and Schneider.'"
      ]
     },
     "execution_count": 52,
     "metadata": {},
     "output_type": "execute_result"
    }
   ],
   "source": [
    "df.text[341][df.normal_cosine[341]] #semi strong"
   ]
  },
  {
   "cell_type": "code",
   "execution_count": 53,
   "metadata": {
    "collapsed": false
   },
   "outputs": [
    {
     "data": {
      "text/plain": [
       "\"The sticker reminds Schneider that at least one of the Seahawks' missing draft picks is already being put to good use -- Seattle gave up its 2019 second-rounder as part of the 2017 trade with the Houston Texans for Brown, the team's starting left tackle -- but it doesn't change the fact that they'll enter this draft with a league-low four selections: a first (No.\""
      ]
     },
     "execution_count": 53,
     "metadata": {},
     "output_type": "execute_result"
    }
   ],
   "source": [
    "df.text[341][df.normal_euclid[341]] #strong"
   ]
  },
  {
   "cell_type": "code",
   "execution_count": 54,
   "metadata": {
    "collapsed": false
   },
   "outputs": [
    {
     "data": {
      "text/plain": [
       "\"The sticker reminds Schneider that at least one of the Seahawks' missing draft picks is already being put to good use -- Seattle gave up its 2019 second-rounder as part of the 2017 trade with the Houston Texans for Brown, the team's starting left tackle -- but it doesn't change the fact that they'll enter this draft with a league-low four selections: a first (No.\""
      ]
     },
     "execution_count": 54,
     "metadata": {},
     "output_type": "execute_result"
    }
   ],
   "source": [
    "df.text[341][df.new_centroid_compare[341]] #strong"
   ]
  },
  {
   "cell_type": "code",
   "execution_count": 55,
   "metadata": {
    "collapsed": false
   },
   "outputs": [
    {
     "name": "stdout",
     "output_type": "stream",
     "text": [
      "According to OverTheCap.com, Seattle is in line for comp picks in the third (Earl Thomas), fourth (Justin Coleman), sixth (Shamar Stephen) and seventh (Hundley) rounds.\n",
      "All told, the Seahawks have moved down 13 times in pick-for-pick trades on draft day under Carroll and Schneider.\n",
      "The sticker reminds Schneider that at least one of the Seahawks' missing draft picks is already being put to good use -- Seattle gave up its 2019 second-rounder as part of the 2017 trade with the Houston Texans for Brown, the team's starting left tackle -- but it doesn't change the fact that they'll enter this draft with a league-low four selections: a first (No.\n",
      "All told, the Seahawks have moved down 13 times in pick-for-pick trades on draft day under Carroll and Schneider.\n",
      "The sticker reminds Schneider that at least one of the Seahawks' missing draft picks is already being put to good use -- Seattle gave up its 2019 second-rounder as part of the 2017 trade with the Houston Texans for Brown, the team's starting left tackle -- but it doesn't change the fact that they'll enter this draft with a league-low four selections: a first (No.\n"
     ]
    }
   ],
   "source": [
    "print(df.text[341][df.LSAFuzzy[341]]) #weak\n",
    "print(df.text[341][df.LexRankFuzzy[341]]) #semi strong\n",
    "print(df.text[341][df.TextRankFuzzy[341]]) #strong\n",
    "print(df.text[341][df.SumBasicFuzzy[341]]) #semi strong\n",
    "print(df.text[341][df.KLSumFuzzy[341]]) #strong"
   ]
  },
  {
   "cell_type": "markdown",
   "metadata": {},
   "source": [
    "### Results\n",
    "\n",
    "Our unnormal cosine looks like the worst approach.  Meanwhile, all the other Sumy approaches are practically even. All the approaches are split between giving good results."
   ]
  },
  {
   "cell_type": "markdown",
   "metadata": {},
   "source": [
    "----\n",
    "## Article 45 \n",
    "Some of the best similar results (comparing our methods to Sumy's methods)"
   ]
  },
  {
   "cell_type": "code",
   "execution_count": 67,
   "metadata": {
    "collapsed": false
   },
   "outputs": [
    {
     "data": {
      "text/plain": [
       "\"Five challenges for Jets' Adam Gase as he attacks one of NFL's toughest jobs\""
      ]
     },
     "execution_count": 67,
     "metadata": {},
     "output_type": "execute_result"
    }
   ],
   "source": [
    "df.headline[45]"
   ]
  },
  {
   "cell_type": "code",
   "execution_count": 73,
   "metadata": {
    "collapsed": false
   },
   "outputs": [
    {
     "data": {
      "text/plain": [
       "\"The good thing about having an offensive-minded coach -- Gase -- is they won't have to change systems if he fires the coordinator or loses his coordinator (Dowell Loggains) to a head-coaching job, because this is Gase's show.\""
      ]
     },
     "execution_count": 73,
     "metadata": {},
     "output_type": "execute_result"
    }
   ],
   "source": [
    "df.text[45][df.unnormal_cosine[45]] #strong"
   ]
  },
  {
   "cell_type": "code",
   "execution_count": 74,
   "metadata": {
    "collapsed": false
   },
   "outputs": [
    {
     "data": {
      "text/plain": [
       "'Gase must change that.'"
      ]
     },
     "execution_count": 74,
     "metadata": {},
     "output_type": "execute_result"
    }
   ],
   "source": [
    "df.text[45][df.normal_cosine[45]] #wrong"
   ]
  },
  {
   "cell_type": "code",
   "execution_count": 75,
   "metadata": {
    "collapsed": false
   },
   "outputs": [
    {
     "data": {
      "text/plain": [
       "\"That's just how I am.\""
      ]
     },
     "execution_count": 75,
     "metadata": {},
     "output_type": "execute_result"
    }
   ],
   "source": [
    "df.text[45][df.normal_euclid[45]] #wrong"
   ]
  },
  {
   "cell_type": "code",
   "execution_count": 76,
   "metadata": {
    "collapsed": false
   },
   "outputs": [
    {
     "data": {
      "text/plain": [
       "\"That's just how I am.\""
      ]
     },
     "execution_count": 76,
     "metadata": {},
     "output_type": "execute_result"
    }
   ],
   "source": [
    "df.text[45][df.new_centroid_compare[45]] #wrong"
   ]
  },
  {
   "cell_type": "code",
   "execution_count": 78,
   "metadata": {
    "collapsed": false
   },
   "outputs": [
    {
     "name": "stdout",
     "output_type": "stream",
     "text": [
      "Cultivate his rapport with Mike Maccagnan: Gase and the general manager, football strangers until mid-January, have since spent a lot of time together, talking about the roster and philosophy.\n",
      "The good thing about having an offensive-minded coach -- Gase -- is they won't have to change systems if he fires the coordinator or loses his coordinator (Dowell Loggains) to a head-coaching job, because this is Gase's show.\n",
      "The good thing about having an offensive-minded coach -- Gase -- is they won't have to change systems if he fires the coordinator or loses his coordinator (Dowell Loggains) to a head-coaching job, because this is Gase's show.\n",
      "Gase must change that.\n",
      "The good thing about having an offensive-minded coach -- Gase -- is they won't have to change systems if he fires the coordinator or loses his coordinator (Dowell Loggains) to a head-coaching job, because this is Gase's show.\n"
     ]
    }
   ],
   "source": [
    "print(df.text[45][df.LSAFuzzy[45]]) #VERY STRONG\n",
    "print(df.text[45][df.LexRankFuzzy[45]]) #strong\n",
    "print(df.text[45][df.TextRankFuzzy[45]]) #strong\n",
    "print(df.text[45][df.SumBasicFuzzy[45]]) #wrong\n",
    "print(df.text[45][df.KLSumFuzzy[45]]) #strong"
   ]
  },
  {
   "cell_type": "markdown",
   "metadata": {},
   "source": [
    "## Results\n",
    "\n",
    "This time the **unnormal cosine** lines up with the **Lex Rank**, **Text Rank**, and **KL Sum** approaches as the strongest winning sentences.  "
   ]
  },
  {
   "cell_type": "markdown",
   "metadata": {},
   "source": [
    "---\n",
    "## Conclusion\n",
    "\n",
    "In conclusion, all the approaches ars scattered in effectiveness. For some articles, our approaches are the best, while sometimes the Sumy summaries are better."
   ]
  },
  {
   "cell_type": "code",
   "execution_count": null,
   "metadata": {
    "collapsed": true
   },
   "outputs": [],
   "source": []
  }
 ],
 "metadata": {
  "anaconda-cloud": {},
  "kernelspec": {
   "display_name": "Python [Root]",
   "language": "python",
   "name": "Python [Root]"
  },
  "language_info": {
   "codemirror_mode": {
    "name": "ipython",
    "version": 3
   },
   "file_extension": ".py",
   "mimetype": "text/x-python",
   "name": "python",
   "nbconvert_exporter": "python",
   "pygments_lexer": "ipython3",
   "version": "3.5.2"
  }
 },
 "nbformat": 4,
 "nbformat_minor": 2
}
